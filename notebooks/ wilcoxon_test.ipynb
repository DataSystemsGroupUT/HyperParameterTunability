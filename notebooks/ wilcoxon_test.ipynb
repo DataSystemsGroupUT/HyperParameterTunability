{
 "cells": [
  {
   "cell_type": "code",
   "execution_count": 9,
   "metadata": {},
   "outputs": [],
   "source": [
    "from scipy.stats import wilcoxon\n",
    "import math\n",
    "import pandas as pd\n",
    "import numpy as np\n",
    "import warnings\n",
    "warnings.filterwarnings('ignore')"
   ]
  },
  {
   "cell_type": "markdown",
   "metadata": {},
   "source": [
    "### Using Scipy Library to calculate Wilcoxon"
   ]
  },
  {
   "cell_type": "code",
   "execution_count": 10,
   "metadata": {},
   "outputs": [],
   "source": [
    "# ### Using Scipy Library to calculate Wilcoxon\n",
    "def willcoxon_for_two_model(data1,data2):\n",
    "    \n",
    "    '''\n",
    "    this function return willcoxon test for two models.\n",
    "    '''\n",
    "    \n",
    "    stat, p = wilcoxon(data1, data2)\n",
    "    #print('Statistics=%.3f, p=%.3f' % (stat, p))\n",
    "    # interpret\n",
    "    alpha = 0.05\n",
    "    if p > alpha or math.isnan(p):\n",
    "        #print('Same distribution (fail to reject H0)==>>0')\n",
    "        return 0\n",
    "    else:\n",
    "        #print('Different distribution (reject H0)==>> 1')\n",
    "        return 1"
   ]
  },
  {
   "cell_type": "code",
   "execution_count": 11,
   "metadata": {},
   "outputs": [],
   "source": [
    "def willcoxon_all(df):\n",
    "    \n",
    "    '''\n",
    "    this Fuction compute a 6*6 matrix with Wilcoxon signed-rank test for our models.\n",
    "    \n",
    "    '''\n",
    "    \n",
    "    \n",
    "    df_out=pd.DataFrame(index=model_list,columns=model_list)\n",
    "    df_out=df_out.fillna(0)\n",
    "    \n",
    "\n",
    "    for model1 in model_list:\n",
    "        for model2 in model_list:\n",
    "            if model1==model2:\n",
    "                df_out[model1][model2]=0\n",
    "            else:\n",
    "                df_out[model1][model2]=willcoxon_for_two_model(df[model1],df[model2])\n",
    "    print('There is no significant difference (fail to reject H0)  ==>> 0')\n",
    "    print('There is no significant difference (reject H0)     ==>> 1')\n",
    "    return df_out"
   ]
  },
  {
   "cell_type": "code",
   "execution_count": 13,
   "metadata": {
    "scrolled": true,
    "tags": []
   },
   "outputs": [
    {
     "output_type": "stream",
     "name": "stdout",
     "text": "There is no significant difference (fail to reject H0)  ==>> 0\nThere is no significant difference (reject H0)     ==>> 1\n"
    }
   ],
   "source": [
    "df=pd.read_csv('../output_csv/cls_statistic.csv')\n",
    "model_list=[\"AB_max\",\"ET_max\",\"RF_max\",\"GB_max\",\"DT_max\",\"SVM_max\"]\n",
    "out_put=willcoxon_all(df[model_list])"
   ]
  },
  {
   "cell_type": "code",
   "execution_count": 14,
   "metadata": {},
   "outputs": [
    {
     "output_type": "execute_result",
     "data": {
      "text/plain": "         AB_max  ET_max  RF_max  GB_max  DT_max  SVM_max\nAB_max        0       1       1       0       1        1\nET_max        1       0       0       1       1        1\nRF_max        1       0       0       1       1        1\nGB_max        0       1       1       0       1        1\nDT_max        1       1       1       1       0        1\nSVM_max       1       1       1       1       1        0",
      "text/html": "<div>\n<style scoped>\n    .dataframe tbody tr th:only-of-type {\n        vertical-align: middle;\n    }\n\n    .dataframe tbody tr th {\n        vertical-align: top;\n    }\n\n    .dataframe thead th {\n        text-align: right;\n    }\n</style>\n<table border=\"1\" class=\"dataframe\">\n  <thead>\n    <tr style=\"text-align: right;\">\n      <th></th>\n      <th>AB_max</th>\n      <th>ET_max</th>\n      <th>RF_max</th>\n      <th>GB_max</th>\n      <th>DT_max</th>\n      <th>SVM_max</th>\n    </tr>\n  </thead>\n  <tbody>\n    <tr>\n      <th>AB_max</th>\n      <td>0</td>\n      <td>1</td>\n      <td>1</td>\n      <td>0</td>\n      <td>1</td>\n      <td>1</td>\n    </tr>\n    <tr>\n      <th>ET_max</th>\n      <td>1</td>\n      <td>0</td>\n      <td>0</td>\n      <td>1</td>\n      <td>1</td>\n      <td>1</td>\n    </tr>\n    <tr>\n      <th>RF_max</th>\n      <td>1</td>\n      <td>0</td>\n      <td>0</td>\n      <td>1</td>\n      <td>1</td>\n      <td>1</td>\n    </tr>\n    <tr>\n      <th>GB_max</th>\n      <td>0</td>\n      <td>1</td>\n      <td>1</td>\n      <td>0</td>\n      <td>1</td>\n      <td>1</td>\n    </tr>\n    <tr>\n      <th>DT_max</th>\n      <td>1</td>\n      <td>1</td>\n      <td>1</td>\n      <td>1</td>\n      <td>0</td>\n      <td>1</td>\n    </tr>\n    <tr>\n      <th>SVM_max</th>\n      <td>1</td>\n      <td>1</td>\n      <td>1</td>\n      <td>1</td>\n      <td>1</td>\n      <td>0</td>\n    </tr>\n  </tbody>\n</table>\n</div>"
     },
     "metadata": {},
     "execution_count": 14
    }
   ],
   "source": [
    "out_put"
   ]
  },
  {
   "cell_type": "code",
   "execution_count": 22,
   "metadata": {},
   "outputs": [],
   "source": [
    "out_put.to_csv(\"../output_csv/willcoxon_test.csv\")"
   ]
  }
 ],
 "metadata": {
  "kernelspec": {
   "display_name": "Python 3",
   "language": "python",
   "name": "python3"
  },
  "language_info": {
   "codemirror_mode": {
    "name": "ipython",
    "version": 3
   },
   "file_extension": ".py",
   "mimetype": "text/x-python",
   "name": "python",
   "nbconvert_exporter": "python",
   "pygments_lexer": "ipython3",
   "version": "3.8.3-final"
  }
 },
 "nbformat": 4,
 "nbformat_minor": 2
}