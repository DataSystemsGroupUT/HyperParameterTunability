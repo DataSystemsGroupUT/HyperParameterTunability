{
 "cells": [
  {
   "cell_type": "code",
   "execution_count": 1,
   "metadata": {},
   "outputs": [],
   "source": [
    "from scipy.stats import wilcoxon\n",
    "import math\n",
    "import pandas as pd\n",
    "import numpy as np\n",
    "import warnings\n",
    "warnings.filterwarnings('ignore')"
   ]
  },
  {
   "cell_type": "markdown",
   "metadata": {},
   "source": [
    "### Using Scipy Library to calculate Wilcoxon"
   ]
  },
  {
   "cell_type": "code",
   "execution_count": 2,
   "metadata": {},
   "outputs": [],
   "source": [
    "# ### Using Scipy Library to calculate Wilcoxon\n",
    "def willcoxon_for_two_model(data1,data2):\n",
    "    \n",
    "    '''\n",
    "    this function return willcoxon test for two models.\n",
    "    '''\n",
    "    \n",
    "    stat, p = wilcoxon(data1, data2)\n",
    "    #print('Statistics=%.3f, p=%.3f' % (stat, p))\n",
    "    # interpret\n",
    "    alpha = 0.05\n",
    "    if p > alpha or math.isnan(p):\n",
    "        #print('Same distribution (fail to reject H0)==>>0')\n",
    "        return 0\n",
    "    else:\n",
    "        #print('Different distribution (reject H0)==>> 1')\n",
    "        return 1"
   ]
  },
  {
   "cell_type": "code",
   "execution_count": 3,
   "metadata": {},
   "outputs": [],
   "source": [
    "def willcoxon_all(df):\n",
    "    \n",
    "    '''\n",
    "    this Fuction compute a 6*6 matrix with Wilcoxon signed-rank test for our models.\n",
    "    \n",
    "    '''\n",
    "    \n",
    "    \n",
    "    df_out=pd.DataFrame(index=model_list,columns=model_list)\n",
    "    df_out=df_out.fillna(0)\n",
    "    \n",
    "\n",
    "    for model1 in model_list:\n",
    "        for model2 in model_list:\n",
    "            if model1==model2:\n",
    "                df_out[model1][model2]=0\n",
    "            else:\n",
    "                df_out[model1][model2]=willcoxon_for_two_model(df[model1],df[model2])\n",
    "    print('There is no significant difference (fail to reject H0)  ==>> 0')\n",
    "    print('There is no significant difference (reject H0)     ==>> 1')\n",
    "    return df_out"
   ]
  },
  {
   "cell_type": "code",
   "execution_count": 4,
   "metadata": {
    "scrolled": true,
    "tags": []
   },
   "outputs": [
    {
     "output_type": "execute_result",
     "data": {
      "text/plain": [
       "     Unnamed: 0                  datasets   RF_mean    RF_max    RF_min  \\\n",
       "0             0             phpkIxskf.csv  0.702625  0.729163  0.577055   \n",
       "1             1  dataset_186_satimage.csv  0.940535  0.953255  0.924139   \n",
       "2             2             phpGReJjU.csv  0.998476  1.000000  0.992149   \n",
       "3             3              leukemia.csv  0.908388  1.000000  0.732500   \n",
       "4             4             phplE7q6h.csv  0.901998  0.940336  0.840513   \n",
       "..          ...                       ...       ...       ...       ...   \n",
       "189         189             phplVyjYQ.csv  0.769474  0.856212  0.653368   \n",
       "190         190             phpu00N5N.csv  0.800418  0.908571  0.580536   \n",
       "191         191                schizo.csv  0.558210  0.619158  0.465870   \n",
       "192         192           speeddating.csv  0.998153  1.000000  0.927536   \n",
       "193         193   analcatdata_homerun.csv  0.736367  0.781684  0.648175   \n",
       "\n",
       "       RF_std   GB_mean    GB_max    GB_min    GB_std  ...   SVM_min  \\\n",
       "0    0.028840  0.712963  0.738619  0.511536  0.026607  ...  0.501448   \n",
       "1    0.005277  0.934435  0.956336  0.597729  0.039311  ...  0.568894   \n",
       "2    0.001779  0.748595  1.000000  0.505052  0.216918  ...  0.523450   \n",
       "3    0.054569  0.939793  1.000000  0.821667  0.028799  ...  0.500000   \n",
       "4    0.017234  0.896768  0.960080  0.559668  0.071872  ...  0.471178   \n",
       "..        ...       ...       ...       ...       ...  ...       ...   \n",
       "189  0.042540  0.777981  0.846636  0.536645  0.033350  ...  0.611706   \n",
       "190  0.062708  0.823333  0.927143  0.706964  0.027036  ...  0.563393   \n",
       "191  0.024687  0.565059  0.631209  0.494444  0.021336  ...  0.435498   \n",
       "192  0.007263  0.999714  1.000000  0.941289  0.002773  ...  0.660660   \n",
       "193  0.017845  0.694701  0.759147  0.631307  0.018311  ...  0.628350   \n",
       "\n",
       "      SVM_std   ET_mean    ET_max    ET_min    ET_std   AB_mean    AB_max  \\\n",
       "0    0.033565  0.665859  0.725358  0.571867  0.041745  0.696965  0.739690   \n",
       "1    0.094251  0.937735  0.954838  0.917793  0.006477  0.919348  0.956144   \n",
       "2    0.234115  0.999965  1.000000  0.999724  0.000053  0.938830  1.000000   \n",
       "3    0.163703  0.941088  0.983333  0.500000  0.052072  0.819608  0.983333   \n",
       "4    0.178394  0.634219  0.949953  0.500000  0.142008  0.890185  0.967753   \n",
       "..        ...       ...       ...       ...       ...       ...       ...   \n",
       "189  0.021225  0.759809  0.842922  0.653368  0.039676  0.798096  0.847922   \n",
       "190  0.066881  0.769263  0.932321  0.559643  0.069982  0.806200  0.907143   \n",
       "191  0.025552  0.592270  0.638909  0.546855  0.011929  0.550535  0.623775   \n",
       "192  0.006631  0.998373  1.000000  0.943478  0.006534  1.000000  1.000000   \n",
       "193  0.039109  0.742789  0.771124  0.677539  0.015212  0.691811  0.764491   \n",
       "\n",
       "       AB_min    AB_std  \n",
       "0    0.500000  0.028549  \n",
       "1    0.675739  0.040429  \n",
       "2    0.489894  0.131815  \n",
       "3    0.702500  0.050714  \n",
       "4    0.680905  0.075839  \n",
       "..        ...       ...  \n",
       "189  0.669511  0.020886  \n",
       "190  0.601429  0.034603  \n",
       "191  0.471507  0.023371  \n",
       "192  1.000000  0.000000  \n",
       "193  0.572821  0.024100  \n",
       "\n",
       "[194 rows x 26 columns]"
      ],
      "text/html": "<div>\n<style scoped>\n    .dataframe tbody tr th:only-of-type {\n        vertical-align: middle;\n    }\n\n    .dataframe tbody tr th {\n        vertical-align: top;\n    }\n\n    .dataframe thead th {\n        text-align: right;\n    }\n</style>\n<table border=\"1\" class=\"dataframe\">\n  <thead>\n    <tr style=\"text-align: right;\">\n      <th></th>\n      <th>Unnamed: 0</th>\n      <th>datasets</th>\n      <th>RF_mean</th>\n      <th>RF_max</th>\n      <th>RF_min</th>\n      <th>RF_std</th>\n      <th>GB_mean</th>\n      <th>GB_max</th>\n      <th>GB_min</th>\n      <th>GB_std</th>\n      <th>...</th>\n      <th>SVM_min</th>\n      <th>SVM_std</th>\n      <th>ET_mean</th>\n      <th>ET_max</th>\n      <th>ET_min</th>\n      <th>ET_std</th>\n      <th>AB_mean</th>\n      <th>AB_max</th>\n      <th>AB_min</th>\n      <th>AB_std</th>\n    </tr>\n  </thead>\n  <tbody>\n    <tr>\n      <td>0</td>\n      <td>0</td>\n      <td>phpkIxskf.csv</td>\n      <td>0.702625</td>\n      <td>0.729163</td>\n      <td>0.577055</td>\n      <td>0.028840</td>\n      <td>0.712963</td>\n      <td>0.738619</td>\n      <td>0.511536</td>\n      <td>0.026607</td>\n      <td>...</td>\n      <td>0.501448</td>\n      <td>0.033565</td>\n      <td>0.665859</td>\n      <td>0.725358</td>\n      <td>0.571867</td>\n      <td>0.041745</td>\n      <td>0.696965</td>\n      <td>0.739690</td>\n      <td>0.500000</td>\n      <td>0.028549</td>\n    </tr>\n    <tr>\n      <td>1</td>\n      <td>1</td>\n      <td>dataset_186_satimage.csv</td>\n      <td>0.940535</td>\n      <td>0.953255</td>\n      <td>0.924139</td>\n      <td>0.005277</td>\n      <td>0.934435</td>\n      <td>0.956336</td>\n      <td>0.597729</td>\n      <td>0.039311</td>\n      <td>...</td>\n      <td>0.568894</td>\n      <td>0.094251</td>\n      <td>0.937735</td>\n      <td>0.954838</td>\n      <td>0.917793</td>\n      <td>0.006477</td>\n      <td>0.919348</td>\n      <td>0.956144</td>\n      <td>0.675739</td>\n      <td>0.040429</td>\n    </tr>\n    <tr>\n      <td>2</td>\n      <td>2</td>\n      <td>phpGReJjU.csv</td>\n      <td>0.998476</td>\n      <td>1.000000</td>\n      <td>0.992149</td>\n      <td>0.001779</td>\n      <td>0.748595</td>\n      <td>1.000000</td>\n      <td>0.505052</td>\n      <td>0.216918</td>\n      <td>...</td>\n      <td>0.523450</td>\n      <td>0.234115</td>\n      <td>0.999965</td>\n      <td>1.000000</td>\n      <td>0.999724</td>\n      <td>0.000053</td>\n      <td>0.938830</td>\n      <td>1.000000</td>\n      <td>0.489894</td>\n      <td>0.131815</td>\n    </tr>\n    <tr>\n      <td>3</td>\n      <td>3</td>\n      <td>leukemia.csv</td>\n      <td>0.908388</td>\n      <td>1.000000</td>\n      <td>0.732500</td>\n      <td>0.054569</td>\n      <td>0.939793</td>\n      <td>1.000000</td>\n      <td>0.821667</td>\n      <td>0.028799</td>\n      <td>...</td>\n      <td>0.500000</td>\n      <td>0.163703</td>\n      <td>0.941088</td>\n      <td>0.983333</td>\n      <td>0.500000</td>\n      <td>0.052072</td>\n      <td>0.819608</td>\n      <td>0.983333</td>\n      <td>0.702500</td>\n      <td>0.050714</td>\n    </tr>\n    <tr>\n      <td>4</td>\n      <td>4</td>\n      <td>phplE7q6h.csv</td>\n      <td>0.901998</td>\n      <td>0.940336</td>\n      <td>0.840513</td>\n      <td>0.017234</td>\n      <td>0.896768</td>\n      <td>0.960080</td>\n      <td>0.559668</td>\n      <td>0.071872</td>\n      <td>...</td>\n      <td>0.471178</td>\n      <td>0.178394</td>\n      <td>0.634219</td>\n      <td>0.949953</td>\n      <td>0.500000</td>\n      <td>0.142008</td>\n      <td>0.890185</td>\n      <td>0.967753</td>\n      <td>0.680905</td>\n      <td>0.075839</td>\n    </tr>\n    <tr>\n      <td>...</td>\n      <td>...</td>\n      <td>...</td>\n      <td>...</td>\n      <td>...</td>\n      <td>...</td>\n      <td>...</td>\n      <td>...</td>\n      <td>...</td>\n      <td>...</td>\n      <td>...</td>\n      <td>...</td>\n      <td>...</td>\n      <td>...</td>\n      <td>...</td>\n      <td>...</td>\n      <td>...</td>\n      <td>...</td>\n      <td>...</td>\n      <td>...</td>\n      <td>...</td>\n      <td>...</td>\n    </tr>\n    <tr>\n      <td>189</td>\n      <td>189</td>\n      <td>phplVyjYQ.csv</td>\n      <td>0.769474</td>\n      <td>0.856212</td>\n      <td>0.653368</td>\n      <td>0.042540</td>\n      <td>0.777981</td>\n      <td>0.846636</td>\n      <td>0.536645</td>\n      <td>0.033350</td>\n      <td>...</td>\n      <td>0.611706</td>\n      <td>0.021225</td>\n      <td>0.759809</td>\n      <td>0.842922</td>\n      <td>0.653368</td>\n      <td>0.039676</td>\n      <td>0.798096</td>\n      <td>0.847922</td>\n      <td>0.669511</td>\n      <td>0.020886</td>\n    </tr>\n    <tr>\n      <td>190</td>\n      <td>190</td>\n      <td>phpu00N5N.csv</td>\n      <td>0.800418</td>\n      <td>0.908571</td>\n      <td>0.580536</td>\n      <td>0.062708</td>\n      <td>0.823333</td>\n      <td>0.927143</td>\n      <td>0.706964</td>\n      <td>0.027036</td>\n      <td>...</td>\n      <td>0.563393</td>\n      <td>0.066881</td>\n      <td>0.769263</td>\n      <td>0.932321</td>\n      <td>0.559643</td>\n      <td>0.069982</td>\n      <td>0.806200</td>\n      <td>0.907143</td>\n      <td>0.601429</td>\n      <td>0.034603</td>\n    </tr>\n    <tr>\n      <td>191</td>\n      <td>191</td>\n      <td>schizo.csv</td>\n      <td>0.558210</td>\n      <td>0.619158</td>\n      <td>0.465870</td>\n      <td>0.024687</td>\n      <td>0.565059</td>\n      <td>0.631209</td>\n      <td>0.494444</td>\n      <td>0.021336</td>\n      <td>...</td>\n      <td>0.435498</td>\n      <td>0.025552</td>\n      <td>0.592270</td>\n      <td>0.638909</td>\n      <td>0.546855</td>\n      <td>0.011929</td>\n      <td>0.550535</td>\n      <td>0.623775</td>\n      <td>0.471507</td>\n      <td>0.023371</td>\n    </tr>\n    <tr>\n      <td>192</td>\n      <td>192</td>\n      <td>speeddating.csv</td>\n      <td>0.998153</td>\n      <td>1.000000</td>\n      <td>0.927536</td>\n      <td>0.007263</td>\n      <td>0.999714</td>\n      <td>1.000000</td>\n      <td>0.941289</td>\n      <td>0.002773</td>\n      <td>...</td>\n      <td>0.660660</td>\n      <td>0.006631</td>\n      <td>0.998373</td>\n      <td>1.000000</td>\n      <td>0.943478</td>\n      <td>0.006534</td>\n      <td>1.000000</td>\n      <td>1.000000</td>\n      <td>1.000000</td>\n      <td>0.000000</td>\n    </tr>\n    <tr>\n      <td>193</td>\n      <td>193</td>\n      <td>analcatdata_homerun.csv</td>\n      <td>0.736367</td>\n      <td>0.781684</td>\n      <td>0.648175</td>\n      <td>0.017845</td>\n      <td>0.694701</td>\n      <td>0.759147</td>\n      <td>0.631307</td>\n      <td>0.018311</td>\n      <td>...</td>\n      <td>0.628350</td>\n      <td>0.039109</td>\n      <td>0.742789</td>\n      <td>0.771124</td>\n      <td>0.677539</td>\n      <td>0.015212</td>\n      <td>0.691811</td>\n      <td>0.764491</td>\n      <td>0.572821</td>\n      <td>0.024100</td>\n    </tr>\n  </tbody>\n</table>\n<p>194 rows × 26 columns</p>\n</div>"
     },
     "metadata": {},
     "execution_count": 4
    }
   ],
   "source": [
    "df=pd.read_csv('../output_csv/cls_statistic.csv')\n",
    "df"
   ]
  },
  {
   "cell_type": "code",
   "execution_count": 5,
   "metadata": {
    "tags": []
   },
   "outputs": [
    {
     "output_type": "stream",
     "name": "stdout",
     "text": [
      "There is no significant difference (fail to reject H0)  ==>> 0\nThere is no significant difference (reject H0)     ==>> 1\n"
     ]
    }
   ],
   "source": [
    "model_list=[\"AB_max\",\"ET_max\",\"RF_max\",\"GB_max\",\"DT_max\",\"SVM_max\"]\n",
    "out_put=willcoxon_all(df[model_list])"
   ]
  },
  {
   "cell_type": "code",
   "execution_count": 6,
   "metadata": {},
   "outputs": [
    {
     "output_type": "execute_result",
     "data": {
      "text/plain": [
       "         AB_max  ET_max  RF_max  GB_max  DT_max  SVM_max\n",
       "AB_max        0       1       1       0       1        1\n",
       "ET_max        1       0       0       1       1        1\n",
       "RF_max        1       0       0       1       1        1\n",
       "GB_max        0       1       1       0       1        1\n",
       "DT_max        1       1       1       1       0        1\n",
       "SVM_max       1       1       1       1       1        0"
      ],
      "text/html": "<div>\n<style scoped>\n    .dataframe tbody tr th:only-of-type {\n        vertical-align: middle;\n    }\n\n    .dataframe tbody tr th {\n        vertical-align: top;\n    }\n\n    .dataframe thead th {\n        text-align: right;\n    }\n</style>\n<table border=\"1\" class=\"dataframe\">\n  <thead>\n    <tr style=\"text-align: right;\">\n      <th></th>\n      <th>AB_max</th>\n      <th>ET_max</th>\n      <th>RF_max</th>\n      <th>GB_max</th>\n      <th>DT_max</th>\n      <th>SVM_max</th>\n    </tr>\n  </thead>\n  <tbody>\n    <tr>\n      <td>AB_max</td>\n      <td>0</td>\n      <td>1</td>\n      <td>1</td>\n      <td>0</td>\n      <td>1</td>\n      <td>1</td>\n    </tr>\n    <tr>\n      <td>ET_max</td>\n      <td>1</td>\n      <td>0</td>\n      <td>0</td>\n      <td>1</td>\n      <td>1</td>\n      <td>1</td>\n    </tr>\n    <tr>\n      <td>RF_max</td>\n      <td>1</td>\n      <td>0</td>\n      <td>0</td>\n      <td>1</td>\n      <td>1</td>\n      <td>1</td>\n    </tr>\n    <tr>\n      <td>GB_max</td>\n      <td>0</td>\n      <td>1</td>\n      <td>1</td>\n      <td>0</td>\n      <td>1</td>\n      <td>1</td>\n    </tr>\n    <tr>\n      <td>DT_max</td>\n      <td>1</td>\n      <td>1</td>\n      <td>1</td>\n      <td>1</td>\n      <td>0</td>\n      <td>1</td>\n    </tr>\n    <tr>\n      <td>SVM_max</td>\n      <td>1</td>\n      <td>1</td>\n      <td>1</td>\n      <td>1</td>\n      <td>1</td>\n      <td>0</td>\n    </tr>\n  </tbody>\n</table>\n</div>"
     },
     "metadata": {},
     "execution_count": 6
    }
   ],
   "source": [
    "out_put"
   ]
  },
  {
   "cell_type": "code",
   "execution_count": 22,
   "metadata": {},
   "outputs": [],
   "source": [
    "out_put.to_csv(\"../output_csv/willcoxon_test.csv\")"
   ]
  }
 ],
 "metadata": {
  "kernelspec": {
   "display_name": "Python 3",
   "language": "python",
   "name": "python3"
  },
  "language_info": {
   "codemirror_mode": {
    "name": "ipython",
    "version": 3
   },
   "file_extension": ".py",
   "mimetype": "text/x-python",
   "name": "python",
   "nbconvert_exporter": "python",
   "pygments_lexer": "ipython3",
   "version": "3.7.4-final"
  }
 },
 "nbformat": 4,
 "nbformat_minor": 2
}