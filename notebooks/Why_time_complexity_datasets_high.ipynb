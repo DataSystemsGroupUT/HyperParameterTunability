{
 "cells": [
  {
   "cell_type": "code",
   "execution_count": 1,
   "metadata": {},
   "outputs": [],
   "source": [
    "from scipy.stats import wilcoxon\n",
    "import math\n",
    "import pandas as pd\n",
    "import numpy as np\n",
    "import warnings\n",
    "import matplotlib.pyplot as plt\n",
    "import seaborn as sns\n",
    "warnings.filterwarnings('ignore')"
   ]
  },
  {
   "cell_type": "code",
   "execution_count": 2,
   "metadata": {},
   "outputs": [],
   "source": [
    "df=pd.read_csv('../output_csv/df_mean_time.csv')\n",
    "train_list=[\"RF_mean_train\",\"GB_mean_train\",\"DT_mean_train\",\"SVM_mean_train\",\"ET_mean_train\",\"AB_mean_train\"]\n",
    "test_list=[\"RF_mean_test\",\"GB_mean_test\",\"DT_mean_test\",\"SVM_mean_test\",\"ET_mean_test\",\"AB_mean_test\"]\n",
    "df_train=df[train_list]\n",
    "df_test=df[test_list]"
   ]
  },
  {
   "cell_type": "code",
   "execution_count": 3,
   "metadata": {},
   "outputs": [
    {
     "output_type": "execute_result",
     "data": {
      "text/plain": "187.74924038314091"
     },
     "metadata": {},
     "execution_count": 3
    }
   ],
   "source": [
    "df[\"GB_mean_train\"].max()"
   ]
  },
  {
   "cell_type": "code",
   "execution_count": 4,
   "metadata": {},
   "outputs": [
    {
     "output_type": "execute_result",
     "data": {
      "text/plain": "    Unnamed: 0              datasets  RF_mean_train  RF_mean_test  \\\n60          60  dataset_6_letter.csv        3.39749      0.055376   \n\n    GB_mean_train  GB_mean_test  DT_mean_train  DT_mean_test  SVM_mean_train  \\\n60      187.74924      0.370112       0.041282      0.001166        52.19862   \n\n    SVM_mean_test  ET_mean_train  ET_mean_test  AB_mean_train  AB_mean_test  \n60        4.05592       1.470975      0.058806      13.167146      0.335623  ",
      "text/html": "<div>\n<style scoped>\n    .dataframe tbody tr th:only-of-type {\n        vertical-align: middle;\n    }\n\n    .dataframe tbody tr th {\n        vertical-align: top;\n    }\n\n    .dataframe thead th {\n        text-align: right;\n    }\n</style>\n<table border=\"1\" class=\"dataframe\">\n  <thead>\n    <tr style=\"text-align: right;\">\n      <th></th>\n      <th>Unnamed: 0</th>\n      <th>datasets</th>\n      <th>RF_mean_train</th>\n      <th>RF_mean_test</th>\n      <th>GB_mean_train</th>\n      <th>GB_mean_test</th>\n      <th>DT_mean_train</th>\n      <th>DT_mean_test</th>\n      <th>SVM_mean_train</th>\n      <th>SVM_mean_test</th>\n      <th>ET_mean_train</th>\n      <th>ET_mean_test</th>\n      <th>AB_mean_train</th>\n      <th>AB_mean_test</th>\n    </tr>\n  </thead>\n  <tbody>\n    <tr>\n      <th>60</th>\n      <td>60</td>\n      <td>dataset_6_letter.csv</td>\n      <td>3.39749</td>\n      <td>0.055376</td>\n      <td>187.74924</td>\n      <td>0.370112</td>\n      <td>0.041282</td>\n      <td>0.001166</td>\n      <td>52.19862</td>\n      <td>4.05592</td>\n      <td>1.470975</td>\n      <td>0.058806</td>\n      <td>13.167146</td>\n      <td>0.335623</td>\n    </tr>\n  </tbody>\n</table>\n</div>"
     },
     "metadata": {},
     "execution_count": 4
    }
   ],
   "source": [
    "df[df[\"GB_mean_train\"].max()==df[\"GB_mean_train\"]]"
   ]
  },
  {
   "cell_type": "code",
   "execution_count": 5,
   "metadata": {},
   "outputs": [],
   "source": [
    "df_letter=pd.read_csv(\"../output_csv/dataset_6_letter.csv\")"
   ]
  },
  {
   "cell_type": "code",
   "execution_count": 6,
   "metadata": {},
   "outputs": [
    {
     "output_type": "execute_result",
     "data": {
      "text/plain": "       x-box  y-box  width  high  onpix  x-bar  y-bar  x2bar  y2bar  xybar  \\\n0          2      4      4     3      2      7      8      2      9     11   \n1          4      7      5     5      5      5      9      6      4      8   \n2          7     10      8     7      4      8      8      5     10     11   \n3          4      9      5     7      4      7      7     13      1      7   \n4          6      7      8     5      4      7      6      3      7     10   \n...      ...    ...    ...   ...    ...    ...    ...    ...    ...    ...   \n19995      5     10      5     8      3      4     10      7      8     12   \n19996      4      7      6     5      3      7      8      2     10     12   \n19997      4      8      4     6      4      7      8      7      4     10   \n19998      4     11      4     8      3      0      2      4      6      1   \n19999      5      9      6    11      6      8      7      6      3      8   \n\n       x2ybr  xy2br  x-ege  xegvy  y-ege  yegvx class  \n0          7      7      1      8      5      6     Z  \n1          7      9      2      9      7     10     P  \n2          2      8      2      5      5     10     S  \n3          6      8      3      8      0      8     H  \n4          7      9      3      8      3      7     H  \n...      ...    ...    ...    ...    ...    ...   ...  \n19995     10      9      2      9      2      6     C  \n19996      6      8      1      9      6      8     Z  \n19997      7      6      3      9      3      7     O  \n19998      0      7      0      8      0      8     L  \n19999      8     11      3      8      6      8     Q  \n\n[20000 rows x 17 columns]",
      "text/html": "<div>\n<style scoped>\n    .dataframe tbody tr th:only-of-type {\n        vertical-align: middle;\n    }\n\n    .dataframe tbody tr th {\n        vertical-align: top;\n    }\n\n    .dataframe thead th {\n        text-align: right;\n    }\n</style>\n<table border=\"1\" class=\"dataframe\">\n  <thead>\n    <tr style=\"text-align: right;\">\n      <th></th>\n      <th>x-box</th>\n      <th>y-box</th>\n      <th>width</th>\n      <th>high</th>\n      <th>onpix</th>\n      <th>x-bar</th>\n      <th>y-bar</th>\n      <th>x2bar</th>\n      <th>y2bar</th>\n      <th>xybar</th>\n      <th>x2ybr</th>\n      <th>xy2br</th>\n      <th>x-ege</th>\n      <th>xegvy</th>\n      <th>y-ege</th>\n      <th>yegvx</th>\n      <th>class</th>\n    </tr>\n  </thead>\n  <tbody>\n    <tr>\n      <th>0</th>\n      <td>2</td>\n      <td>4</td>\n      <td>4</td>\n      <td>3</td>\n      <td>2</td>\n      <td>7</td>\n      <td>8</td>\n      <td>2</td>\n      <td>9</td>\n      <td>11</td>\n      <td>7</td>\n      <td>7</td>\n      <td>1</td>\n      <td>8</td>\n      <td>5</td>\n      <td>6</td>\n      <td>Z</td>\n    </tr>\n    <tr>\n      <th>1</th>\n      <td>4</td>\n      <td>7</td>\n      <td>5</td>\n      <td>5</td>\n      <td>5</td>\n      <td>5</td>\n      <td>9</td>\n      <td>6</td>\n      <td>4</td>\n      <td>8</td>\n      <td>7</td>\n      <td>9</td>\n      <td>2</td>\n      <td>9</td>\n      <td>7</td>\n      <td>10</td>\n      <td>P</td>\n    </tr>\n    <tr>\n      <th>2</th>\n      <td>7</td>\n      <td>10</td>\n      <td>8</td>\n      <td>7</td>\n      <td>4</td>\n      <td>8</td>\n      <td>8</td>\n      <td>5</td>\n      <td>10</td>\n      <td>11</td>\n      <td>2</td>\n      <td>8</td>\n      <td>2</td>\n      <td>5</td>\n      <td>5</td>\n      <td>10</td>\n      <td>S</td>\n    </tr>\n    <tr>\n      <th>3</th>\n      <td>4</td>\n      <td>9</td>\n      <td>5</td>\n      <td>7</td>\n      <td>4</td>\n      <td>7</td>\n      <td>7</td>\n      <td>13</td>\n      <td>1</td>\n      <td>7</td>\n      <td>6</td>\n      <td>8</td>\n      <td>3</td>\n      <td>8</td>\n      <td>0</td>\n      <td>8</td>\n      <td>H</td>\n    </tr>\n    <tr>\n      <th>4</th>\n      <td>6</td>\n      <td>7</td>\n      <td>8</td>\n      <td>5</td>\n      <td>4</td>\n      <td>7</td>\n      <td>6</td>\n      <td>3</td>\n      <td>7</td>\n      <td>10</td>\n      <td>7</td>\n      <td>9</td>\n      <td>3</td>\n      <td>8</td>\n      <td>3</td>\n      <td>7</td>\n      <td>H</td>\n    </tr>\n    <tr>\n      <th>...</th>\n      <td>...</td>\n      <td>...</td>\n      <td>...</td>\n      <td>...</td>\n      <td>...</td>\n      <td>...</td>\n      <td>...</td>\n      <td>...</td>\n      <td>...</td>\n      <td>...</td>\n      <td>...</td>\n      <td>...</td>\n      <td>...</td>\n      <td>...</td>\n      <td>...</td>\n      <td>...</td>\n      <td>...</td>\n    </tr>\n    <tr>\n      <th>19995</th>\n      <td>5</td>\n      <td>10</td>\n      <td>5</td>\n      <td>8</td>\n      <td>3</td>\n      <td>4</td>\n      <td>10</td>\n      <td>7</td>\n      <td>8</td>\n      <td>12</td>\n      <td>10</td>\n      <td>9</td>\n      <td>2</td>\n      <td>9</td>\n      <td>2</td>\n      <td>6</td>\n      <td>C</td>\n    </tr>\n    <tr>\n      <th>19996</th>\n      <td>4</td>\n      <td>7</td>\n      <td>6</td>\n      <td>5</td>\n      <td>3</td>\n      <td>7</td>\n      <td>8</td>\n      <td>2</td>\n      <td>10</td>\n      <td>12</td>\n      <td>6</td>\n      <td>8</td>\n      <td>1</td>\n      <td>9</td>\n      <td>6</td>\n      <td>8</td>\n      <td>Z</td>\n    </tr>\n    <tr>\n      <th>19997</th>\n      <td>4</td>\n      <td>8</td>\n      <td>4</td>\n      <td>6</td>\n      <td>4</td>\n      <td>7</td>\n      <td>8</td>\n      <td>7</td>\n      <td>4</td>\n      <td>10</td>\n      <td>7</td>\n      <td>6</td>\n      <td>3</td>\n      <td>9</td>\n      <td>3</td>\n      <td>7</td>\n      <td>O</td>\n    </tr>\n    <tr>\n      <th>19998</th>\n      <td>4</td>\n      <td>11</td>\n      <td>4</td>\n      <td>8</td>\n      <td>3</td>\n      <td>0</td>\n      <td>2</td>\n      <td>4</td>\n      <td>6</td>\n      <td>1</td>\n      <td>0</td>\n      <td>7</td>\n      <td>0</td>\n      <td>8</td>\n      <td>0</td>\n      <td>8</td>\n      <td>L</td>\n    </tr>\n    <tr>\n      <th>19999</th>\n      <td>5</td>\n      <td>9</td>\n      <td>6</td>\n      <td>11</td>\n      <td>6</td>\n      <td>8</td>\n      <td>7</td>\n      <td>6</td>\n      <td>3</td>\n      <td>8</td>\n      <td>8</td>\n      <td>11</td>\n      <td>3</td>\n      <td>8</td>\n      <td>6</td>\n      <td>8</td>\n      <td>Q</td>\n    </tr>\n  </tbody>\n</table>\n<p>20000 rows × 17 columns</p>\n</div>"
     },
     "metadata": {},
     "execution_count": 6
    }
   ],
   "source": [
    "df_letter"
   ]
  }
 ],
 "metadata": {
  "kernelspec": {
   "display_name": "Python 3",
   "language": "python",
   "name": "python3"
  },
  "language_info": {
   "codemirror_mode": {
    "name": "ipython",
    "version": 3
   },
   "file_extension": ".py",
   "mimetype": "text/x-python",
   "name": "python",
   "nbconvert_exporter": "python",
   "pygments_lexer": "ipython3",
   "version": "3.8.3-final"
  }
 },
 "nbformat": 4,
 "nbformat_minor": 4
}