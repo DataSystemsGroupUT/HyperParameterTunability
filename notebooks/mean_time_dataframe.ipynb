{
 "cells": [
  {
   "cell_type": "code",
   "execution_count": 1,
   "metadata": {},
   "outputs": [],
   "source": [
    "from scipy.stats import wilcoxon\n",
    "import math\n",
    "import pandas as pd\n",
    "import numpy as np\n",
    "import warnings\n",
    "import matplotlib.pyplot as plt\n",
    "import seaborn as sns\n",
    "warnings.filterwarnings('ignore')"
   ]
  },
  {
   "cell_type": "code",
   "execution_count": 2,
   "metadata": {},
   "outputs": [],
   "source": [
    "df = pd.read_csv(\"../PerformanceData/AB_results_total.csv\")"
   ]
  },
  {
   "cell_type": "code",
   "execution_count": 4,
   "metadata": {},
   "outputs": [],
   "source": [
    "df_data_analysis=pd.DataFrame()\n",
    "dict_cls=dict()\n",
    "\n",
    "\n",
    "for cls in [\"RF\",\"AB\",\"SVM\",\"DT\",\"GB\",\"ET\"]:\n",
    "    \n",
    "    file_path=\"../PerformanceData/\"+cls+\"_results_total.csv\"\n",
    "    cls_results_total=pd.read_csv(file_path)\n",
    "    \n",
    "    dict_mean_train=dict()\n",
    "    dict_mean_test=dict()\n",
    "\n",
    "    \n",
    "    for dataset in cls_results_total[\"dataset\"].unique():\n",
    "        current_dataset_results=cls_results_total[cls_results_total[\"dataset\"]==dataset]\n",
    "        \n",
    "        dict_mean_train[dataset]=current_dataset_results[\"Mean_Train_time\"].mean()\n",
    "        dict_mean_test[dataset]=current_dataset_results[\"Mean_Test_time\"].mean()\n",
    "\n",
    "        \n",
    "        \n",
    "    df1=pd.DataFrame(dict_mean_train.items(),columns=[\"datasets\",cls+\"_mean_train\"])\n",
    "    df2=pd.DataFrame(dict_mean_test.items(),columns=[\"datasets\",cls+\"_mean_test\"])\n",
    "    dfs=pd.merge(df1,df2,on='datasets')\n",
    "    dict_cls[cls]=dfs\n",
    "    \n",
    "    "
   ]
  },
  {
   "cell_type": "code",
   "execution_count": 5,
   "metadata": {},
   "outputs": [],
   "source": [
    "dfs=pd.merge(pd.merge(pd.merge(\n",
    "    pd.merge(\n",
    "        pd.merge(\n",
    "            dict_cls[\"RF\"],dict_cls[\"GB\"],on='datasets')\n",
    "        ,dict_cls[\"DT\"],on='datasets')\n",
    "    ,dict_cls[\"SVM\"], on=\"datasets\"),dict_cls[\"ET\"], on=\"datasets\"),dict_cls[\"AB\"], on=\"datasets\")"
   ]
  },
  {
   "cell_type": "code",
   "execution_count": 6,
   "metadata": {},
   "outputs": [],
   "source": [
    "dfs.to_csv(\"../output_csv/df_mean_time.csv\")"
   ]
  },
  {
   "cell_type": "code",
   "execution_count": 7,
   "metadata": {},
   "outputs": [
    {
     "output_type": "execute_result",
     "data": {
      "text/plain": "                   datasets  RF_mean_train  RF_mean_test  GB_mean_train  \\\n0             phpkIxskf.csv      13.652705      0.075076      12.279573   \n1  dataset_186_satimage.csv       3.093606      0.015104       7.449866   \n2             phpGReJjU.csv      14.629376      0.081962     177.730615   \n3              leukemia.csv       2.576181      0.006595       0.497922   \n4             phplE7q6h.csv       5.618746      0.028534       2.708332   \n\n   GB_mean_test  DT_mean_train  DT_mean_test  SVM_mean_train  SVM_mean_test  \\\n0      0.020839       0.177225      0.002093      286.262063       9.462092   \n1      0.011311       0.036281      0.000827        5.013950       0.318031   \n2      0.307499       0.172980      0.001491       57.384723       8.739368   \n3      0.000435       0.034358      0.001001        0.030460       0.003244   \n4      0.009507       0.064624      0.000941       57.560582       0.403464   \n\n   ET_mean_train  ET_mean_test  AB_mean_train  AB_mean_test  \n0       7.823292      0.081318      63.334001      0.305448  \n1       1.099607      0.037446      17.007827      0.130411  \n2       1.023387      0.090791      22.248903      0.587898  \n3       0.605787      0.020624       0.798797      0.003311  \n4       0.361656      0.016688      15.037326      0.063707  ",
      "text/html": "<div>\n<style scoped>\n    .dataframe tbody tr th:only-of-type {\n        vertical-align: middle;\n    }\n\n    .dataframe tbody tr th {\n        vertical-align: top;\n    }\n\n    .dataframe thead th {\n        text-align: right;\n    }\n</style>\n<table border=\"1\" class=\"dataframe\">\n  <thead>\n    <tr style=\"text-align: right;\">\n      <th></th>\n      <th>datasets</th>\n      <th>RF_mean_train</th>\n      <th>RF_mean_test</th>\n      <th>GB_mean_train</th>\n      <th>GB_mean_test</th>\n      <th>DT_mean_train</th>\n      <th>DT_mean_test</th>\n      <th>SVM_mean_train</th>\n      <th>SVM_mean_test</th>\n      <th>ET_mean_train</th>\n      <th>ET_mean_test</th>\n      <th>AB_mean_train</th>\n      <th>AB_mean_test</th>\n    </tr>\n  </thead>\n  <tbody>\n    <tr>\n      <th>0</th>\n      <td>phpkIxskf.csv</td>\n      <td>13.652705</td>\n      <td>0.075076</td>\n      <td>12.279573</td>\n      <td>0.020839</td>\n      <td>0.177225</td>\n      <td>0.002093</td>\n      <td>286.262063</td>\n      <td>9.462092</td>\n      <td>7.823292</td>\n      <td>0.081318</td>\n      <td>63.334001</td>\n      <td>0.305448</td>\n    </tr>\n    <tr>\n      <th>1</th>\n      <td>dataset_186_satimage.csv</td>\n      <td>3.093606</td>\n      <td>0.015104</td>\n      <td>7.449866</td>\n      <td>0.011311</td>\n      <td>0.036281</td>\n      <td>0.000827</td>\n      <td>5.013950</td>\n      <td>0.318031</td>\n      <td>1.099607</td>\n      <td>0.037446</td>\n      <td>17.007827</td>\n      <td>0.130411</td>\n    </tr>\n    <tr>\n      <th>2</th>\n      <td>phpGReJjU.csv</td>\n      <td>14.629376</td>\n      <td>0.081962</td>\n      <td>177.730615</td>\n      <td>0.307499</td>\n      <td>0.172980</td>\n      <td>0.001491</td>\n      <td>57.384723</td>\n      <td>8.739368</td>\n      <td>1.023387</td>\n      <td>0.090791</td>\n      <td>22.248903</td>\n      <td>0.587898</td>\n    </tr>\n    <tr>\n      <th>3</th>\n      <td>leukemia.csv</td>\n      <td>2.576181</td>\n      <td>0.006595</td>\n      <td>0.497922</td>\n      <td>0.000435</td>\n      <td>0.034358</td>\n      <td>0.001001</td>\n      <td>0.030460</td>\n      <td>0.003244</td>\n      <td>0.605787</td>\n      <td>0.020624</td>\n      <td>0.798797</td>\n      <td>0.003311</td>\n    </tr>\n    <tr>\n      <th>4</th>\n      <td>phplE7q6h.csv</td>\n      <td>5.618746</td>\n      <td>0.028534</td>\n      <td>2.708332</td>\n      <td>0.009507</td>\n      <td>0.064624</td>\n      <td>0.000941</td>\n      <td>57.560582</td>\n      <td>0.403464</td>\n      <td>0.361656</td>\n      <td>0.016688</td>\n      <td>15.037326</td>\n      <td>0.063707</td>\n    </tr>\n  </tbody>\n</table>\n</div>"
     },
     "metadata": {},
     "execution_count": 7
    }
   ],
   "source": [
    "dfs.head()"
   ]
  }
 ],
 "metadata": {
  "kernelspec": {
   "display_name": "Python 3",
   "language": "python",
   "name": "python3"
  },
  "language_info": {
   "codemirror_mode": {
    "name": "ipython",
    "version": 3
   },
   "file_extension": ".py",
   "mimetype": "text/x-python",
   "name": "python",
   "nbconvert_exporter": "python",
   "pygments_lexer": "ipython3",
   "version": "3.8.3-final"
  }
 },
 "nbformat": 4,
 "nbformat_minor": 4
}