{
 "cells": [
  {
   "cell_type": "markdown",
   "metadata": {},
   "source": [
    "We Have already found which hyperparameter is importance. So in this notebook, we want to verify our previous results with Wilcoxon statistical test."
   ]
  },
  {
   "cell_type": "code",
   "execution_count": 12,
   "metadata": {},
   "outputs": [],
   "source": [
    "from scipy.stats import wilcoxon\n",
    "import math\n",
    "import pandas as pd\n",
    "import numpy as np\n",
    "import warnings\n",
    "warnings.filterwarnings('ignore')"
   ]
  },
  {
   "cell_type": "markdown",
   "metadata": {},
   "source": [
    "### Using Scipy Library to calculate Wilcoxon"
   ]
  },
  {
   "cell_type": "code",
   "execution_count": 13,
   "metadata": {},
   "outputs": [],
   "source": [
    "# ### Using Scipy Library to calculate Wilcoxon\n",
    "def willcoxon_for_two_model(data1,data2):\n",
    "    \n",
    "    '''\n",
    "    this function return willcoxon test for two models.\n",
    "    '''\n",
    "    \n",
    "    stat, p = wilcoxon(data1, data2)\n",
    "    #print('Statistics=%.3f, p=%.3f' % (stat, p))\n",
    "    # interpret\n",
    "    alpha = 0.05\n",
    "    if p > alpha or math.isnan(p):\n",
    "        #print('Same distribution (fail to reject H0)==>>0')\n",
    "        return 0\n",
    "    else:\n",
    "        #print('Different distribution (reject H0)==>> 1')\n",
    "        return 1"
   ]
  },
  {
   "cell_type": "code",
   "execution_count": 14,
   "metadata": {},
   "outputs": [],
   "source": [
    "def willcoxon_all(df):\n",
    "    \n",
    "    '''\n",
    "    this Fuction compute a 6*6 matrix with Wilcoxon signed-rank test for our models.\n",
    "    \n",
    "    '''\n",
    "    \n",
    "    \n",
    "    df_out=pd.DataFrame(index=df.columns,columns=df.columns)\n",
    "    df_out=df_out.fillna(0)\n",
    "    \n",
    "\n",
    "    for model1 in df.columns:\n",
    "        for model2 in df.columns:\n",
    "            if model1==model2:\n",
    "                df_out[model1][model2]=0\n",
    "            else:\n",
    "                df_out[model1][model2]=willcoxon_for_two_model(df[model1],df[model2])\n",
    "    print('There is no significant difference (fail to reject H0)  ==>> 0')\n",
    "    print('There is no significant difference (reject H0)     ==>> 1')\n",
    "    return df_out"
   ]
  },
  {
   "cell_type": "code",
   "execution_count": 15,
   "metadata": {
    "tags": []
   },
   "outputs": [
    {
     "output_type": "stream",
     "name": "stdout",
     "text": [
      "There is no significant difference (fail to reject H0)  ==>> 0\nThere is no significant difference (reject H0)     ==>> 1\nThere is no significant difference (fail to reject H0)  ==>> 0\nThere is no significant difference (reject H0)     ==>> 1\nThere is no significant difference (fail to reject H0)  ==>> 0\nThere is no significant difference (reject H0)     ==>> 1\nThere is no significant difference (fail to reject H0)  ==>> 0\nThere is no significant difference (reject H0)     ==>> 1\nThere is no significant difference (fail to reject H0)  ==>> 0\nThere is no significant difference (reject H0)     ==>> 1\nThere is no significant difference (fail to reject H0)  ==>> 0\nThere is no significant difference (reject H0)     ==>> 1\n"
     ]
    }
   ],
   "source": [
    "for cls in [\"rf\",'ab','gb','dt','et','svm']:\n",
    "\n",
    "    params_wilcoxon=pd.read_csv('../output_csv/'+cls+'_params_wilcoxon.csv')\n",
    "    del params_wilcoxon['dataset']\n",
    "    willcoxon_test_output=willcoxon_all(params_wilcoxon)\n",
    "    willcoxon_test_output.to_csv(\"../output_csv/willcoxon_test_output_\"+cls+\".csv\")\n",
    "\n"
   ]
  },
  {
   "cell_type": "code",
   "execution_count": 16,
   "metadata": {},
   "outputs": [],
   "source": [
    "i=0\n",
    "df=list()\n",
    "dfs=list()\n",
    "for cls in [\"rf\",'ab','gb','dt','et','svm']:\n",
    "    \n",
    "    df=pd.read_csv(\"../output_csv/willcoxon_test_output_\"+cls+\".csv\")\n",
    "    dfs.append(df)"
   ]
  },
  {
   "cell_type": "code",
   "execution_count": 17,
   "metadata": {},
   "outputs": [
    {
     "output_type": "execute_result",
     "data": {
      "text/plain": [
       "                             Unnamed: 0  bootstrap  criterion  max_features  \\\n",
       "0                             bootstrap          0          1             1   \n",
       "1                             criterion          1          0             1   \n",
       "2                          max_features          1          1             0   \n",
       "3                      min_samples_leaf          1          1             1   \n",
       "4                     min_samples_split          1          1             1   \n",
       "5  ('max_features', 'min_samples_leaf')          0          1             1   \n",
       "6         ('bootstrap', 'max_features')          1          1             1   \n",
       "\n",
       "   min_samples_leaf  min_samples_split  ('max_features', 'min_samples_leaf')  \\\n",
       "0                 1                  1                                     0   \n",
       "1                 1                  1                                     1   \n",
       "2                 1                  1                                     1   \n",
       "3                 0                  1                                     1   \n",
       "4                 1                  0                                     1   \n",
       "5                 1                  1                                     0   \n",
       "6                 1                  1                                     1   \n",
       "\n",
       "   ('bootstrap', 'max_features')  \n",
       "0                              1  \n",
       "1                              1  \n",
       "2                              1  \n",
       "3                              1  \n",
       "4                              1  \n",
       "5                              1  \n",
       "6                              0  "
      ],
      "text/html": "<div>\n<style scoped>\n    .dataframe tbody tr th:only-of-type {\n        vertical-align: middle;\n    }\n\n    .dataframe tbody tr th {\n        vertical-align: top;\n    }\n\n    .dataframe thead th {\n        text-align: right;\n    }\n</style>\n<table border=\"1\" class=\"dataframe\">\n  <thead>\n    <tr style=\"text-align: right;\">\n      <th></th>\n      <th>Unnamed: 0</th>\n      <th>bootstrap</th>\n      <th>criterion</th>\n      <th>max_features</th>\n      <th>min_samples_leaf</th>\n      <th>min_samples_split</th>\n      <th>('max_features', 'min_samples_leaf')</th>\n      <th>('bootstrap', 'max_features')</th>\n    </tr>\n  </thead>\n  <tbody>\n    <tr>\n      <td>0</td>\n      <td>bootstrap</td>\n      <td>0</td>\n      <td>1</td>\n      <td>1</td>\n      <td>1</td>\n      <td>1</td>\n      <td>0</td>\n      <td>1</td>\n    </tr>\n    <tr>\n      <td>1</td>\n      <td>criterion</td>\n      <td>1</td>\n      <td>0</td>\n      <td>1</td>\n      <td>1</td>\n      <td>1</td>\n      <td>1</td>\n      <td>1</td>\n    </tr>\n    <tr>\n      <td>2</td>\n      <td>max_features</td>\n      <td>1</td>\n      <td>1</td>\n      <td>0</td>\n      <td>1</td>\n      <td>1</td>\n      <td>1</td>\n      <td>1</td>\n    </tr>\n    <tr>\n      <td>3</td>\n      <td>min_samples_leaf</td>\n      <td>1</td>\n      <td>1</td>\n      <td>1</td>\n      <td>0</td>\n      <td>1</td>\n      <td>1</td>\n      <td>1</td>\n    </tr>\n    <tr>\n      <td>4</td>\n      <td>min_samples_split</td>\n      <td>1</td>\n      <td>1</td>\n      <td>1</td>\n      <td>1</td>\n      <td>0</td>\n      <td>1</td>\n      <td>1</td>\n    </tr>\n    <tr>\n      <td>5</td>\n      <td>('max_features', 'min_samples_leaf')</td>\n      <td>0</td>\n      <td>1</td>\n      <td>1</td>\n      <td>1</td>\n      <td>1</td>\n      <td>0</td>\n      <td>1</td>\n    </tr>\n    <tr>\n      <td>6</td>\n      <td>('bootstrap', 'max_features')</td>\n      <td>1</td>\n      <td>1</td>\n      <td>1</td>\n      <td>1</td>\n      <td>1</td>\n      <td>1</td>\n      <td>0</td>\n    </tr>\n  </tbody>\n</table>\n</div>"
     },
     "metadata": {},
     "execution_count": 17
    }
   ],
   "source": [
    "# RF\n",
    "dfs[0]"
   ]
  },
  {
   "cell_type": "code",
   "execution_count": 18,
   "metadata": {},
   "outputs": [
    {
     "output_type": "execute_result",
     "data": {
      "text/plain": [
       "                                    Unnamed: 0  learning_rate  max_depth  \\\n",
       "0                                learning_rate              0          1   \n",
       "1                                    max_depth              1          0   \n",
       "2                                 n_estimators              1          1   \n",
       "3               ('learning_rate', 'max_depth')              1          1   \n",
       "4            ('learning_rate', 'n_estimators')              1          1   \n",
       "5                ('max_depth', 'n_estimators')              1          1   \n",
       "6  ('algorithm', 'max_depth', 'learning_rate')              1          1   \n",
       "\n",
       "   n_estimators  ('learning_rate', 'max_depth')  \\\n",
       "0             1                               1   \n",
       "1             1                               1   \n",
       "2             0                               1   \n",
       "3             1                               0   \n",
       "4             1                               1   \n",
       "5             1                               1   \n",
       "6             1                               1   \n",
       "\n",
       "   ('learning_rate', 'n_estimators')  ('max_depth', 'n_estimators')  \\\n",
       "0                                  1                              1   \n",
       "1                                  1                              1   \n",
       "2                                  1                              1   \n",
       "3                                  1                              1   \n",
       "4                                  0                              0   \n",
       "5                                  0                              0   \n",
       "6                                  0                              0   \n",
       "\n",
       "   ('algorithm', 'max_depth', 'learning_rate')  \n",
       "0                                            1  \n",
       "1                                            1  \n",
       "2                                            1  \n",
       "3                                            1  \n",
       "4                                            0  \n",
       "5                                            0  \n",
       "6                                            0  "
      ],
      "text/html": "<div>\n<style scoped>\n    .dataframe tbody tr th:only-of-type {\n        vertical-align: middle;\n    }\n\n    .dataframe tbody tr th {\n        vertical-align: top;\n    }\n\n    .dataframe thead th {\n        text-align: right;\n    }\n</style>\n<table border=\"1\" class=\"dataframe\">\n  <thead>\n    <tr style=\"text-align: right;\">\n      <th></th>\n      <th>Unnamed: 0</th>\n      <th>learning_rate</th>\n      <th>max_depth</th>\n      <th>n_estimators</th>\n      <th>('learning_rate', 'max_depth')</th>\n      <th>('learning_rate', 'n_estimators')</th>\n      <th>('max_depth', 'n_estimators')</th>\n      <th>('algorithm', 'max_depth', 'learning_rate')</th>\n    </tr>\n  </thead>\n  <tbody>\n    <tr>\n      <td>0</td>\n      <td>learning_rate</td>\n      <td>0</td>\n      <td>1</td>\n      <td>1</td>\n      <td>1</td>\n      <td>1</td>\n      <td>1</td>\n      <td>1</td>\n    </tr>\n    <tr>\n      <td>1</td>\n      <td>max_depth</td>\n      <td>1</td>\n      <td>0</td>\n      <td>1</td>\n      <td>1</td>\n      <td>1</td>\n      <td>1</td>\n      <td>1</td>\n    </tr>\n    <tr>\n      <td>2</td>\n      <td>n_estimators</td>\n      <td>1</td>\n      <td>1</td>\n      <td>0</td>\n      <td>1</td>\n      <td>1</td>\n      <td>1</td>\n      <td>1</td>\n    </tr>\n    <tr>\n      <td>3</td>\n      <td>('learning_rate', 'max_depth')</td>\n      <td>1</td>\n      <td>1</td>\n      <td>1</td>\n      <td>0</td>\n      <td>1</td>\n      <td>1</td>\n      <td>1</td>\n    </tr>\n    <tr>\n      <td>4</td>\n      <td>('learning_rate', 'n_estimators')</td>\n      <td>1</td>\n      <td>1</td>\n      <td>1</td>\n      <td>1</td>\n      <td>0</td>\n      <td>0</td>\n      <td>0</td>\n    </tr>\n    <tr>\n      <td>5</td>\n      <td>('max_depth', 'n_estimators')</td>\n      <td>1</td>\n      <td>1</td>\n      <td>1</td>\n      <td>1</td>\n      <td>0</td>\n      <td>0</td>\n      <td>0</td>\n    </tr>\n    <tr>\n      <td>6</td>\n      <td>('algorithm', 'max_depth', 'learning_rate')</td>\n      <td>1</td>\n      <td>1</td>\n      <td>1</td>\n      <td>1</td>\n      <td>0</td>\n      <td>0</td>\n      <td>0</td>\n    </tr>\n  </tbody>\n</table>\n</div>"
     },
     "metadata": {},
     "execution_count": 18
    }
   ],
   "source": [
    "# AB\n",
    "dfs[1]"
   ]
  },
  {
   "cell_type": "code",
   "execution_count": 19,
   "metadata": {},
   "outputs": [
    {
     "output_type": "execute_result",
     "data": {
      "text/plain": [
       "          Unnamed: 0  criterion  learning_rate  max_depth  max_features  \\\n",
       "0          criterion          0              1          1             1   \n",
       "1      learning_rate          1              0          1             1   \n",
       "2          max_depth          1              1          0             1   \n",
       "3       max_features          1              1          1             0   \n",
       "4   min_samples_leaf          1              1          1             0   \n",
       "5  min_samples_split          1              1          1             1   \n",
       "6       n_estimators          1              1          1             1   \n",
       "\n",
       "   min_samples_leaf  min_samples_split  n_estimators  \n",
       "0                 1                  1             1  \n",
       "1                 1                  1             1  \n",
       "2                 1                  1             1  \n",
       "3                 0                  1             1  \n",
       "4                 0                  1             1  \n",
       "5                 1                  0             1  \n",
       "6                 1                  1             0  "
      ],
      "text/html": "<div>\n<style scoped>\n    .dataframe tbody tr th:only-of-type {\n        vertical-align: middle;\n    }\n\n    .dataframe tbody tr th {\n        vertical-align: top;\n    }\n\n    .dataframe thead th {\n        text-align: right;\n    }\n</style>\n<table border=\"1\" class=\"dataframe\">\n  <thead>\n    <tr style=\"text-align: right;\">\n      <th></th>\n      <th>Unnamed: 0</th>\n      <th>criterion</th>\n      <th>learning_rate</th>\n      <th>max_depth</th>\n      <th>max_features</th>\n      <th>min_samples_leaf</th>\n      <th>min_samples_split</th>\n      <th>n_estimators</th>\n    </tr>\n  </thead>\n  <tbody>\n    <tr>\n      <td>0</td>\n      <td>criterion</td>\n      <td>0</td>\n      <td>1</td>\n      <td>1</td>\n      <td>1</td>\n      <td>1</td>\n      <td>1</td>\n      <td>1</td>\n    </tr>\n    <tr>\n      <td>1</td>\n      <td>learning_rate</td>\n      <td>1</td>\n      <td>0</td>\n      <td>1</td>\n      <td>1</td>\n      <td>1</td>\n      <td>1</td>\n      <td>1</td>\n    </tr>\n    <tr>\n      <td>2</td>\n      <td>max_depth</td>\n      <td>1</td>\n      <td>1</td>\n      <td>0</td>\n      <td>1</td>\n      <td>1</td>\n      <td>1</td>\n      <td>1</td>\n    </tr>\n    <tr>\n      <td>3</td>\n      <td>max_features</td>\n      <td>1</td>\n      <td>1</td>\n      <td>1</td>\n      <td>0</td>\n      <td>0</td>\n      <td>1</td>\n      <td>1</td>\n    </tr>\n    <tr>\n      <td>4</td>\n      <td>min_samples_leaf</td>\n      <td>1</td>\n      <td>1</td>\n      <td>1</td>\n      <td>0</td>\n      <td>0</td>\n      <td>1</td>\n      <td>1</td>\n    </tr>\n    <tr>\n      <td>5</td>\n      <td>min_samples_split</td>\n      <td>1</td>\n      <td>1</td>\n      <td>1</td>\n      <td>1</td>\n      <td>1</td>\n      <td>0</td>\n      <td>1</td>\n    </tr>\n    <tr>\n      <td>6</td>\n      <td>n_estimators</td>\n      <td>1</td>\n      <td>1</td>\n      <td>1</td>\n      <td>1</td>\n      <td>1</td>\n      <td>1</td>\n      <td>0</td>\n    </tr>\n  </tbody>\n</table>\n</div>"
     },
     "metadata": {},
     "execution_count": 19
    }
   ],
   "source": [
    "# GB\n",
    "dfs[2]"
   ]
  },
  {
   "cell_type": "code",
   "execution_count": 20,
   "metadata": {},
   "outputs": [
    {
     "output_type": "execute_result",
     "data": {
      "text/plain": [
       "                              Unnamed: 0  max_features  min_samples_leaf  \\\n",
       "0                           max_features             0                 1   \n",
       "1                       min_samples_leaf             1                 0   \n",
       "2                      min_samples_split             1                 1   \n",
       "3                              criterion             1                 1   \n",
       "4   ('max_features', 'min_samples_leaf')             1                 1   \n",
       "5  ('max_features', 'min_samples_split')             1                 1   \n",
       "\n",
       "   min_samples_split  criterion  ('max_features', 'min_samples_leaf')  \\\n",
       "0                  1          1                                     1   \n",
       "1                  1          1                                     1   \n",
       "2                  0          1                                     1   \n",
       "3                  1          0                                     1   \n",
       "4                  1          1                                     0   \n",
       "5                  1          1                                     1   \n",
       "\n",
       "   ('max_features', 'min_samples_split')  \n",
       "0                                      1  \n",
       "1                                      1  \n",
       "2                                      1  \n",
       "3                                      1  \n",
       "4                                      1  \n",
       "5                                      0  "
      ],
      "text/html": "<div>\n<style scoped>\n    .dataframe tbody tr th:only-of-type {\n        vertical-align: middle;\n    }\n\n    .dataframe tbody tr th {\n        vertical-align: top;\n    }\n\n    .dataframe thead th {\n        text-align: right;\n    }\n</style>\n<table border=\"1\" class=\"dataframe\">\n  <thead>\n    <tr style=\"text-align: right;\">\n      <th></th>\n      <th>Unnamed: 0</th>\n      <th>max_features</th>\n      <th>min_samples_leaf</th>\n      <th>min_samples_split</th>\n      <th>criterion</th>\n      <th>('max_features', 'min_samples_leaf')</th>\n      <th>('max_features', 'min_samples_split')</th>\n    </tr>\n  </thead>\n  <tbody>\n    <tr>\n      <td>0</td>\n      <td>max_features</td>\n      <td>0</td>\n      <td>1</td>\n      <td>1</td>\n      <td>1</td>\n      <td>1</td>\n      <td>1</td>\n    </tr>\n    <tr>\n      <td>1</td>\n      <td>min_samples_leaf</td>\n      <td>1</td>\n      <td>0</td>\n      <td>1</td>\n      <td>1</td>\n      <td>1</td>\n      <td>1</td>\n    </tr>\n    <tr>\n      <td>2</td>\n      <td>min_samples_split</td>\n      <td>1</td>\n      <td>1</td>\n      <td>0</td>\n      <td>1</td>\n      <td>1</td>\n      <td>1</td>\n    </tr>\n    <tr>\n      <td>3</td>\n      <td>criterion</td>\n      <td>1</td>\n      <td>1</td>\n      <td>1</td>\n      <td>0</td>\n      <td>1</td>\n      <td>1</td>\n    </tr>\n    <tr>\n      <td>4</td>\n      <td>('max_features', 'min_samples_leaf')</td>\n      <td>1</td>\n      <td>1</td>\n      <td>1</td>\n      <td>1</td>\n      <td>0</td>\n      <td>1</td>\n    </tr>\n    <tr>\n      <td>5</td>\n      <td>('max_features', 'min_samples_split')</td>\n      <td>1</td>\n      <td>1</td>\n      <td>1</td>\n      <td>1</td>\n      <td>1</td>\n      <td>0</td>\n    </tr>\n  </tbody>\n</table>\n</div>"
     },
     "metadata": {},
     "execution_count": 20
    }
   ],
   "source": [
    "# dt\n",
    "dfs[3]"
   ]
  },
  {
   "cell_type": "code",
   "execution_count": 21,
   "metadata": {},
   "outputs": [
    {
     "output_type": "execute_result",
     "data": {
      "text/plain": [
       "                                  Unnamed: 0  bootstrap  criterion  \\\n",
       "0                                  bootstrap          0          1   \n",
       "1                                  criterion          1          0   \n",
       "2                               max_features          1          1   \n",
       "3                           min_samples_leaf          1          1   \n",
       "4                          min_samples_split          1          1   \n",
       "5       ('max_features', 'min_samples_leaf')          1          1   \n",
       "6  ('min_samples_leaf', 'min_samples_split')          1          1   \n",
       "\n",
       "   max_features  min_samples_leaf  min_samples_split  \\\n",
       "0             1                 1                  1   \n",
       "1             1                 1                  1   \n",
       "2             0                 0                  1   \n",
       "3             0                 0                  1   \n",
       "4             1                 1                  0   \n",
       "5             1                 1                  1   \n",
       "6             1                 1                  1   \n",
       "\n",
       "   ('max_features', 'min_samples_leaf')  \\\n",
       "0                                     1   \n",
       "1                                     1   \n",
       "2                                     1   \n",
       "3                                     1   \n",
       "4                                     1   \n",
       "5                                     0   \n",
       "6                                     1   \n",
       "\n",
       "   ('min_samples_leaf', 'min_samples_split')  \n",
       "0                                          1  \n",
       "1                                          1  \n",
       "2                                          1  \n",
       "3                                          1  \n",
       "4                                          1  \n",
       "5                                          1  \n",
       "6                                          0  "
      ],
      "text/html": "<div>\n<style scoped>\n    .dataframe tbody tr th:only-of-type {\n        vertical-align: middle;\n    }\n\n    .dataframe tbody tr th {\n        vertical-align: top;\n    }\n\n    .dataframe thead th {\n        text-align: right;\n    }\n</style>\n<table border=\"1\" class=\"dataframe\">\n  <thead>\n    <tr style=\"text-align: right;\">\n      <th></th>\n      <th>Unnamed: 0</th>\n      <th>bootstrap</th>\n      <th>criterion</th>\n      <th>max_features</th>\n      <th>min_samples_leaf</th>\n      <th>min_samples_split</th>\n      <th>('max_features', 'min_samples_leaf')</th>\n      <th>('min_samples_leaf', 'min_samples_split')</th>\n    </tr>\n  </thead>\n  <tbody>\n    <tr>\n      <td>0</td>\n      <td>bootstrap</td>\n      <td>0</td>\n      <td>1</td>\n      <td>1</td>\n      <td>1</td>\n      <td>1</td>\n      <td>1</td>\n      <td>1</td>\n    </tr>\n    <tr>\n      <td>1</td>\n      <td>criterion</td>\n      <td>1</td>\n      <td>0</td>\n      <td>1</td>\n      <td>1</td>\n      <td>1</td>\n      <td>1</td>\n      <td>1</td>\n    </tr>\n    <tr>\n      <td>2</td>\n      <td>max_features</td>\n      <td>1</td>\n      <td>1</td>\n      <td>0</td>\n      <td>0</td>\n      <td>1</td>\n      <td>1</td>\n      <td>1</td>\n    </tr>\n    <tr>\n      <td>3</td>\n      <td>min_samples_leaf</td>\n      <td>1</td>\n      <td>1</td>\n      <td>0</td>\n      <td>0</td>\n      <td>1</td>\n      <td>1</td>\n      <td>1</td>\n    </tr>\n    <tr>\n      <td>4</td>\n      <td>min_samples_split</td>\n      <td>1</td>\n      <td>1</td>\n      <td>1</td>\n      <td>1</td>\n      <td>0</td>\n      <td>1</td>\n      <td>1</td>\n    </tr>\n    <tr>\n      <td>5</td>\n      <td>('max_features', 'min_samples_leaf')</td>\n      <td>1</td>\n      <td>1</td>\n      <td>1</td>\n      <td>1</td>\n      <td>1</td>\n      <td>0</td>\n      <td>1</td>\n    </tr>\n    <tr>\n      <td>6</td>\n      <td>('min_samples_leaf', 'min_samples_split')</td>\n      <td>1</td>\n      <td>1</td>\n      <td>1</td>\n      <td>1</td>\n      <td>1</td>\n      <td>1</td>\n      <td>0</td>\n    </tr>\n  </tbody>\n</table>\n</div>"
     },
     "metadata": {},
     "execution_count": 21
    }
   ],
   "source": [
    "# ET\n",
    "dfs[4]"
   ]
  },
  {
   "cell_type": "code",
   "execution_count": 22,
   "metadata": {},
   "outputs": [
    {
     "output_type": "execute_result",
     "data": {
      "text/plain": [
       "                 Unnamed: 0  gamma  kernel  ('gamma', 'kernel')  \\\n",
       "0                     gamma      0       1                    1   \n",
       "1                    kernel      1       0                    1   \n",
       "2       ('gamma', 'kernel')      1       1                    0   \n",
       "3        ('coef0', 'gamma')      1       1                    1   \n",
       "4   ('gamma', 'imputation')      1       1                    1   \n",
       "5  ('imputation', 'kernel')      1       1                    1   \n",
       "6   ('coef0', 'imputation')      1       1                    1   \n",
       "7       ('C', 'imputation')      1       1                    1   \n",
       "8     ('imputation', 'tol')      1       1                    1   \n",
       "\n",
       "   ('coef0', 'gamma')  ('gamma', 'imputation')  ('imputation', 'kernel')  \\\n",
       "0                   1                        1                         1   \n",
       "1                   1                        1                         1   \n",
       "2                   1                        1                         1   \n",
       "3                   0                        1                         1   \n",
       "4                   1                        0                         1   \n",
       "5                   1                        1                         0   \n",
       "6                   1                        1                         1   \n",
       "7                   1                        1                         1   \n",
       "8                   1                        1                         1   \n",
       "\n",
       "   ('coef0', 'imputation')  ('C', 'imputation')  ('imputation', 'tol')  \n",
       "0                        1                    1                      1  \n",
       "1                        1                    1                      1  \n",
       "2                        1                    1                      1  \n",
       "3                        1                    1                      1  \n",
       "4                        1                    1                      1  \n",
       "5                        1                    1                      1  \n",
       "6                        0                    1                      1  \n",
       "7                        1                    0                      1  \n",
       "8                        1                    1                      0  "
      ],
      "text/html": "<div>\n<style scoped>\n    .dataframe tbody tr th:only-of-type {\n        vertical-align: middle;\n    }\n\n    .dataframe tbody tr th {\n        vertical-align: top;\n    }\n\n    .dataframe thead th {\n        text-align: right;\n    }\n</style>\n<table border=\"1\" class=\"dataframe\">\n  <thead>\n    <tr style=\"text-align: right;\">\n      <th></th>\n      <th>Unnamed: 0</th>\n      <th>gamma</th>\n      <th>kernel</th>\n      <th>('gamma', 'kernel')</th>\n      <th>('coef0', 'gamma')</th>\n      <th>('gamma', 'imputation')</th>\n      <th>('imputation', 'kernel')</th>\n      <th>('coef0', 'imputation')</th>\n      <th>('C', 'imputation')</th>\n      <th>('imputation', 'tol')</th>\n    </tr>\n  </thead>\n  <tbody>\n    <tr>\n      <td>0</td>\n      <td>gamma</td>\n      <td>0</td>\n      <td>1</td>\n      <td>1</td>\n      <td>1</td>\n      <td>1</td>\n      <td>1</td>\n      <td>1</td>\n      <td>1</td>\n      <td>1</td>\n    </tr>\n    <tr>\n      <td>1</td>\n      <td>kernel</td>\n      <td>1</td>\n      <td>0</td>\n      <td>1</td>\n      <td>1</td>\n      <td>1</td>\n      <td>1</td>\n      <td>1</td>\n      <td>1</td>\n      <td>1</td>\n    </tr>\n    <tr>\n      <td>2</td>\n      <td>('gamma', 'kernel')</td>\n      <td>1</td>\n      <td>1</td>\n      <td>0</td>\n      <td>1</td>\n      <td>1</td>\n      <td>1</td>\n      <td>1</td>\n      <td>1</td>\n      <td>1</td>\n    </tr>\n    <tr>\n      <td>3</td>\n      <td>('coef0', 'gamma')</td>\n      <td>1</td>\n      <td>1</td>\n      <td>1</td>\n      <td>0</td>\n      <td>1</td>\n      <td>1</td>\n      <td>1</td>\n      <td>1</td>\n      <td>1</td>\n    </tr>\n    <tr>\n      <td>4</td>\n      <td>('gamma', 'imputation')</td>\n      <td>1</td>\n      <td>1</td>\n      <td>1</td>\n      <td>1</td>\n      <td>0</td>\n      <td>1</td>\n      <td>1</td>\n      <td>1</td>\n      <td>1</td>\n    </tr>\n    <tr>\n      <td>5</td>\n      <td>('imputation', 'kernel')</td>\n      <td>1</td>\n      <td>1</td>\n      <td>1</td>\n      <td>1</td>\n      <td>1</td>\n      <td>0</td>\n      <td>1</td>\n      <td>1</td>\n      <td>1</td>\n    </tr>\n    <tr>\n      <td>6</td>\n      <td>('coef0', 'imputation')</td>\n      <td>1</td>\n      <td>1</td>\n      <td>1</td>\n      <td>1</td>\n      <td>1</td>\n      <td>1</td>\n      <td>0</td>\n      <td>1</td>\n      <td>1</td>\n    </tr>\n    <tr>\n      <td>7</td>\n      <td>('C', 'imputation')</td>\n      <td>1</td>\n      <td>1</td>\n      <td>1</td>\n      <td>1</td>\n      <td>1</td>\n      <td>1</td>\n      <td>1</td>\n      <td>0</td>\n      <td>1</td>\n    </tr>\n    <tr>\n      <td>8</td>\n      <td>('imputation', 'tol')</td>\n      <td>1</td>\n      <td>1</td>\n      <td>1</td>\n      <td>1</td>\n      <td>1</td>\n      <td>1</td>\n      <td>1</td>\n      <td>1</td>\n      <td>0</td>\n    </tr>\n  </tbody>\n</table>\n</div>"
     },
     "metadata": {},
     "execution_count": 22
    }
   ],
   "source": [
    "# SVM\n",
    "dfs[5]"
   ]
  }
 ],
 "metadata": {
  "kernelspec": {
   "display_name": "Python 3",
   "language": "python",
   "name": "python3"
  },
  "language_info": {
   "codemirror_mode": {
    "name": "ipython",
    "version": 3
   },
   "file_extension": ".py",
   "mimetype": "text/x-python",
   "name": "python",
   "nbconvert_exporter": "python",
   "pygments_lexer": "ipython3",
   "version": "3.7.4-final"
  }
 },
 "nbformat": 4,
 "nbformat_minor": 2
}