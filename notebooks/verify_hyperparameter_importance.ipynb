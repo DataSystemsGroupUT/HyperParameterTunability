{
 "cells": [
  {
   "cell_type": "markdown",
   "metadata": {},
   "source": [
    "We Have already found which hyperparameter is importance. So in this notebook, we want to verify our previous results with Wilcoxon statistical test."
   ]
  },
  {
   "cell_type": "code",
   "execution_count": 9,
   "metadata": {},
   "outputs": [],
   "source": [
    "from scipy.stats import wilcoxon\n",
    "import math\n",
    "import pandas as pd\n",
    "import numpy as np\n",
    "import warnings\n",
    "warnings.filterwarnings('ignore')"
   ]
  },
  {
   "cell_type": "markdown",
   "metadata": {},
   "source": [
    "### Using Scipy Library to calculate Wilcoxon"
   ]
  },
  {
   "cell_type": "code",
   "execution_count": 10,
   "metadata": {},
   "outputs": [],
   "source": [
    "# ### Using Scipy Library to calculate Wilcoxon\n",
    "def willcoxon_for_two_model(data1,data2):\n",
    "    \n",
    "    '''\n",
    "    this function return willcoxon test for two models.\n",
    "    '''\n",
    "    \n",
    "    stat, p = wilcoxon(data1, data2)\n",
    "    #print('Statistics=%.3f, p=%.3f' % (stat, p))\n",
    "    # interpret\n",
    "    alpha = 0.05\n",
    "    if p > alpha or math.isnan(p):\n",
    "        #print('Same distribution (fail to reject H0)==>>0')\n",
    "        return 0\n",
    "    else:\n",
    "        #print('Different distribution (reject H0)==>> 1')\n",
    "        return 1"
   ]
  },
  {
   "cell_type": "code",
   "execution_count": 11,
   "metadata": {},
   "outputs": [],
   "source": [
    "def willcoxon_all(df):\n",
    "    \n",
    "    '''\n",
    "    this Fuction compute a 6*6 matrix with Wilcoxon signed-rank test for our models.\n",
    "    \n",
    "    '''\n",
    "    \n",
    "    \n",
    "    df_out=pd.DataFrame(index=df.columns,columns=df.columns)\n",
    "    df_out=df_out.fillna(0)\n",
    "    \n",
    "\n",
    "    for model1 in df.columns:\n",
    "        for model2 in df.columns:\n",
    "            if model1==model2:\n",
    "                df_out[model1][model2]=0\n",
    "            else:\n",
    "                df_out[model1][model2]=willcoxon_for_two_model(df[model1],df[model2])\n",
    "    print('There is no significant difference (fail to reject H0)  ==>> 0')\n",
    "    print('There is no significant difference (reject H0)     ==>> 1')\n",
    "    return df_out"
   ]
  },
  {
   "cell_type": "code",
   "execution_count": 12,
   "metadata": {
    "tags": []
   },
   "outputs": [
    {
     "output_type": "stream",
     "name": "stdout",
     "text": "There is no significant difference (fail to reject H0)  ==>> 0\nThere is no significant difference (reject H0)     ==>> 1\nThere is no significant difference (fail to reject H0)  ==>> 0\nThere is no significant difference (reject H0)     ==>> 1\nThere is no significant difference (fail to reject H0)  ==>> 0\nThere is no significant difference (reject H0)     ==>> 1\nThere is no significant difference (fail to reject H0)  ==>> 0\nThere is no significant difference (reject H0)     ==>> 1\nThere is no significant difference (fail to reject H0)  ==>> 0\nThere is no significant difference (reject H0)     ==>> 1\nThere is no significant difference (fail to reject H0)  ==>> 0\nThere is no significant difference (reject H0)     ==>> 1\n"
    }
   ],
   "source": [
    "for cls in [\"rf\",'ab','gb','dt','et','svm']:\n",
    "\n",
    "    params_wilcoxon=pd.read_csv('../output_csv/'+cls+'_params_wilcoxon.csv')\n",
    "    del params_wilcoxon['dataset']\n",
    "    willcoxon_test_output=willcoxon_all(params_wilcoxon)\n",
    "    willcoxon_test_output.to_csv(\"../output_csv/willcoxon_test_output_\"+cls+\".csv\")\n",
    "\n"
   ]
  },
  {
   "cell_type": "code",
   "execution_count": 15,
   "metadata": {},
   "outputs": [],
   "source": [
    "i=0\n",
    "df=list()\n",
    "dfs=list()\n",
    "for cls in [\"rf\",'ab','gb','dt','et','svm']:\n",
    "    \n",
    "    df=pd.read_csv(\"../output_csv/willcoxon_test_output_\"+cls+\".csv\")\n",
    "    dfs.append(df)"
   ]
  },
  {
   "cell_type": "code",
   "execution_count": 19,
   "metadata": {},
   "outputs": [
    {
     "output_type": "execute_result",
     "data": {
      "text/plain": "                                  Unnamed: 0  bootstrap  criterion  \\\n0                                  bootstrap          0          1   \n1                                  criterion          1          0   \n2                               max_features          1          1   \n3                           min_samples_leaf          1          1   \n4                          min_samples_split          1          1   \n5       ('max_features', 'min_samples_leaf')          1          1   \n6  ('min_samples_leaf', 'min_samples_split')          1          1   \n\n   max_features  min_samples_leaf  min_samples_split  \\\n0             1                 1                  1   \n1             1                 1                  1   \n2             0                 0                  1   \n3             0                 0                  1   \n4             1                 1                  0   \n5             1                 1                  1   \n6             1                 1                  1   \n\n   ('max_features', 'min_samples_leaf')  \\\n0                                     1   \n1                                     1   \n2                                     1   \n3                                     1   \n4                                     1   \n5                                     0   \n6                                     1   \n\n   ('min_samples_leaf', 'min_samples_split')  \n0                                          1  \n1                                          1  \n2                                          1  \n3                                          1  \n4                                          1  \n5                                          1  \n6                                          0  ",
      "text/html": "<div>\n<style scoped>\n    .dataframe tbody tr th:only-of-type {\n        vertical-align: middle;\n    }\n\n    .dataframe tbody tr th {\n        vertical-align: top;\n    }\n\n    .dataframe thead th {\n        text-align: right;\n    }\n</style>\n<table border=\"1\" class=\"dataframe\">\n  <thead>\n    <tr style=\"text-align: right;\">\n      <th></th>\n      <th>Unnamed: 0</th>\n      <th>bootstrap</th>\n      <th>criterion</th>\n      <th>max_features</th>\n      <th>min_samples_leaf</th>\n      <th>min_samples_split</th>\n      <th>('max_features', 'min_samples_leaf')</th>\n      <th>('min_samples_leaf', 'min_samples_split')</th>\n    </tr>\n  </thead>\n  <tbody>\n    <tr>\n      <th>0</th>\n      <td>bootstrap</td>\n      <td>0</td>\n      <td>1</td>\n      <td>1</td>\n      <td>1</td>\n      <td>1</td>\n      <td>1</td>\n      <td>1</td>\n    </tr>\n    <tr>\n      <th>1</th>\n      <td>criterion</td>\n      <td>1</td>\n      <td>0</td>\n      <td>1</td>\n      <td>1</td>\n      <td>1</td>\n      <td>1</td>\n      <td>1</td>\n    </tr>\n    <tr>\n      <th>2</th>\n      <td>max_features</td>\n      <td>1</td>\n      <td>1</td>\n      <td>0</td>\n      <td>0</td>\n      <td>1</td>\n      <td>1</td>\n      <td>1</td>\n    </tr>\n    <tr>\n      <th>3</th>\n      <td>min_samples_leaf</td>\n      <td>1</td>\n      <td>1</td>\n      <td>0</td>\n      <td>0</td>\n      <td>1</td>\n      <td>1</td>\n      <td>1</td>\n    </tr>\n    <tr>\n      <th>4</th>\n      <td>min_samples_split</td>\n      <td>1</td>\n      <td>1</td>\n      <td>1</td>\n      <td>1</td>\n      <td>0</td>\n      <td>1</td>\n      <td>1</td>\n    </tr>\n    <tr>\n      <th>5</th>\n      <td>('max_features', 'min_samples_leaf')</td>\n      <td>1</td>\n      <td>1</td>\n      <td>1</td>\n      <td>1</td>\n      <td>1</td>\n      <td>0</td>\n      <td>1</td>\n    </tr>\n    <tr>\n      <th>6</th>\n      <td>('min_samples_leaf', 'min_samples_split')</td>\n      <td>1</td>\n      <td>1</td>\n      <td>1</td>\n      <td>1</td>\n      <td>1</td>\n      <td>1</td>\n      <td>0</td>\n    </tr>\n  </tbody>\n</table>\n</div>"
     },
     "metadata": {},
     "execution_count": 19
    }
   ],
   "source": [
    "dfs[4]"
   ]
  },
  {
   "cell_type": "code",
   "execution_count": null,
   "metadata": {},
   "outputs": [],
   "source": []
  }
 ],
 "metadata": {
  "kernelspec": {
   "display_name": "Python 3",
   "language": "python",
   "name": "python3"
  },
  "language_info": {
   "codemirror_mode": {
    "name": "ipython",
    "version": 3
   },
   "file_extension": ".py",
   "mimetype": "text/x-python",
   "name": "python",
   "nbconvert_exporter": "python",
   "pygments_lexer": "ipython3",
   "version": "3.8.3-final"
  }
 },
 "nbformat": 4,
 "nbformat_minor": 2
}