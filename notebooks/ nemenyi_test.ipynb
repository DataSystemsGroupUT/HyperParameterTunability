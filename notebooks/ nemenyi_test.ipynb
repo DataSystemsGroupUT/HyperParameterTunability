{
 "cells": [
  {
   "cell_type": "code",
   "execution_count": 8,
   "metadata": {},
   "outputs": [],
   "source": [
    "# import Orange\n",
    "import matplotlib.pyplot as plt\n",
    "import seaborn as sns\n",
    "from scipy.stats import friedmanchisquare\n",
    "from scikit_posthocs import posthoc_nemenyi_friedman"
   ]
  },
  {
   "cell_type": "markdown",
   "metadata": {},
   "source": [
    "### Using Scipy Library to calculate Wilcoxon"
   ]
  },
  {
   "cell_type": "code",
   "execution_count": 9,
   "metadata": {},
   "outputs": [],
   "source": [
    "def do_friedman_test(ranked_data):\n",
    "    return friedmanchisquare(\n",
    "        *[group for idx, group in ranked_data.iloc[:, 1:].iteritems()]\n",
    "    )\n"
   ]
  },
  {
   "cell_type": "code",
   "execution_count": 11,
   "metadata": {},
   "outputs": [],
   "source": [
    "def do_nemenyi_test(ranked_data, plot=False):\n",
    "    ranks_per_dataset = ranked_data.iloc[:, 1:]\n",
    "\n",
    "    if plot:\n",
    "        names = list(ranked_data.columns)[1:]\n",
    "        avg_ranks = ranks_per_dataset.mean(axis=0)\n",
    "        cd = Orange.evaluation.compute_CD(\n",
    "            avg_ranks, ranked_data.shape[0], alpha='0.05', test='nemenyi')\n",
    "        Orange.evaluation.graph_ranks(avg_ranks, names, cd=cd, width=10, textspace=1.5)\n",
    "        \n",
    "        plt.show()\n",
    "        \n",
    "\n",
    "    return posthoc_nemenyi_friedman(ranks_per_dataset)"
   ]
  },
  {
   "cell_type": "code",
   "execution_count": 12,
   "metadata": {},
   "outputs": [],
   "source": [
    "def plot_heatmap(rank_frequences, save_plot=False):\n",
    "    ax = sns.heatmap(rank_frequences, cmap=sns.cm.rocket_r, annot=True, fmt='g')\n",
    "    plt.title('Heat Map for Algorithm Performance Analysis')\n",
    "    plt.xlabel('Algorithm Name')\n",
    "    plt.ylabel('Rank')\n",
    "    plt.tight_layout()\n",
    "    if save_plot:\n",
    "        plt.savefig('../output_plots/heatmap_dec2.png', dpi=fig.dpi)\n",
    "    plt.show()"
   ]
  },
  {
   "cell_type": "code",
   "execution_count": null,
   "metadata": {},
   "outputs": [],
   "source": []
  }
 ],
 "metadata": {
  "kernelspec": {
   "name": "python3",
   "display_name": "Python 3.7.4 64-bit ('base': conda)",
   "metadata": {
    "interpreter": {
     "hash": "012080076d34b6fd00b64d41aae62f55212ca98f0a386ccc71b4094bc25b8854"
    }
   }
  },
  "language_info": {
   "codemirror_mode": {
    "name": "ipython",
    "version": 3
   },
   "file_extension": ".py",
   "mimetype": "text/x-python",
   "name": "python",
   "nbconvert_exporter": "python",
   "pygments_lexer": "ipython3",
   "version": "3.7.4-final"
  }
 },
 "nbformat": 4,
 "nbformat_minor": 2
}