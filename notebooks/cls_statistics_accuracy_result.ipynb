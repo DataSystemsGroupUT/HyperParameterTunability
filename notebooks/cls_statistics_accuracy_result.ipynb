{
 "cells": [
  {
   "cell_type": "code",
   "execution_count": 1,
   "metadata": {},
   "outputs": [],
   "source": [
    "import pandas as pd\n",
    "import pickle\n",
    "import scipy.stats\n",
    "import seaborn as sns\n",
    "import math\n",
    "import warnings\n",
    "warnings.filterwarnings(\"ignore\")"
   ]
  },
  {
   "cell_type": "code",
   "execution_count": 3,
   "metadata": {},
   "outputs": [],
   "source": [
    "df_data_analysis=pd.DataFrame()\n",
    "dict_cls=dict()\n",
    "\n",
    "\n",
    "for cls in [\"RF\",\"AB\",\"SVM\",\"DT\",\"GB\",\"ET\"]:\n",
    "    \n",
    "    file_path=\"../PerformanceData/\"+cls+\"_results_total.csv\"\n",
    "    cls_results_total=pd.read_csv(file_path)\n",
    "    \n",
    "    dict_mean=dict()\n",
    "    dict_max=dict()\n",
    "    dict_min=dict()\n",
    "    dict_std=dict()\n",
    "    \n",
    "    for dataset in cls_results_total[\"dataset\"].unique():\n",
    "        current_dataset_results=cls_results_total[cls_results_total[\"dataset\"]==dataset]\n",
    "        \n",
    "        dict_mean[dataset]=current_dataset_results[\"CV_auc\"].mean()\n",
    "        dict_max[dataset]=current_dataset_results[\"CV_auc\"].max()\n",
    "        dict_min[dataset]=current_dataset_results[\"CV_auc\"].min()\n",
    "        dict_std[dataset]=current_dataset_results[\"CV_auc\"].std()\n",
    "        \n",
    "        \n",
    "    df1=pd.DataFrame(dict_mean.items(),columns=[\"datasets\",cls+\"_mean\"])\n",
    "    df2=pd.DataFrame(dict_max.items(),columns=[\"datasets\",cls+\"_max\"])\n",
    "    df3=pd.DataFrame(dict_min.items(),columns=[\"datasets\",cls+\"_min\"])\n",
    "    df4=pd.DataFrame(dict_std.items(),columns=[\"datasets\",cls+\"_std\"])\n",
    "    dfs=pd.merge(pd.merge(pd.merge(df1,df2,on='datasets'),df3,on='datasets'),df4, on=\"datasets\")\n",
    "    dict_cls[cls]=dfs\n",
    "    \n",
    "    \n",
    "dfs=pd.merge(pd.merge(pd.merge(\n",
    "    pd.merge(\n",
    "        pd.merge(\n",
    "            dict_cls[\"RF\"],dict_cls[\"GB\"],on='datasets')\n",
    "        ,dict_cls[\"DT\"],on='datasets')\n",
    "    ,dict_cls[\"SVM\"], on=\"datasets\"),dict_cls[\"ET\"], on=\"datasets\"),dict_cls[\"AB\"], on=\"datasets\")"
   ]
  },
  {
   "cell_type": "code",
   "execution_count": 4,
   "metadata": {},
   "outputs": [],
   "source": [
    "dfs.to_csv(\"../output_csv/cls_statistic.csv\")"
   ]
  },
  {
   "cell_type": "code",
   "execution_count": 5,
   "metadata": {},
   "outputs": [
    {
     "output_type": "execute_result",
     "data": {
      "text/plain": "                   datasets   RF_mean    RF_max    RF_min    RF_std   GB_mean  \\\n0             phpkIxskf.csv  0.702625  0.729163  0.577055  0.028840  0.712963   \n1  dataset_186_satimage.csv  0.940535  0.953255  0.924139  0.005277  0.934435   \n2             phpGReJjU.csv  0.998476  1.000000  0.992149  0.001779  0.748595   \n3              leukemia.csv  0.908388  1.000000  0.732500  0.054569  0.939793   \n4             phplE7q6h.csv  0.901998  0.940336  0.840513  0.017234  0.896768   \n\n     GB_max    GB_min    GB_std   DT_mean  ...   SVM_min   SVM_std   ET_mean  \\\n0  0.738619  0.511536  0.026607  0.695489  ...  0.501448  0.033565  0.665859   \n1  0.956336  0.597729  0.039311  0.911926  ...  0.568894  0.094251  0.937735   \n2  1.000000  0.505052  0.216918  0.938836  ...  0.523450  0.234115  0.999965   \n3  1.000000  0.821667  0.028799  0.844997  ...  0.500000  0.163703  0.941088   \n4  0.960080  0.559668  0.071872  0.806424  ...  0.471178  0.178394  0.634219   \n\n     ET_max    ET_min    ET_std   AB_mean    AB_max    AB_min    AB_std  \n0  0.725358  0.571867  0.041745  0.696965  0.739690  0.500000  0.028549  \n1  0.954838  0.917793  0.006477  0.919348  0.956144  0.675739  0.040429  \n2  1.000000  0.999724  0.000053  0.938830  1.000000  0.489894  0.131815  \n3  0.983333  0.500000  0.052072  0.819608  0.983333  0.702500  0.050714  \n4  0.949953  0.500000  0.142008  0.890185  0.967753  0.680905  0.075839  \n\n[5 rows x 25 columns]",
      "text/html": "<div>\n<style scoped>\n    .dataframe tbody tr th:only-of-type {\n        vertical-align: middle;\n    }\n\n    .dataframe tbody tr th {\n        vertical-align: top;\n    }\n\n    .dataframe thead th {\n        text-align: right;\n    }\n</style>\n<table border=\"1\" class=\"dataframe\">\n  <thead>\n    <tr style=\"text-align: right;\">\n      <th></th>\n      <th>datasets</th>\n      <th>RF_mean</th>\n      <th>RF_max</th>\n      <th>RF_min</th>\n      <th>RF_std</th>\n      <th>GB_mean</th>\n      <th>GB_max</th>\n      <th>GB_min</th>\n      <th>GB_std</th>\n      <th>DT_mean</th>\n      <th>...</th>\n      <th>SVM_min</th>\n      <th>SVM_std</th>\n      <th>ET_mean</th>\n      <th>ET_max</th>\n      <th>ET_min</th>\n      <th>ET_std</th>\n      <th>AB_mean</th>\n      <th>AB_max</th>\n      <th>AB_min</th>\n      <th>AB_std</th>\n    </tr>\n  </thead>\n  <tbody>\n    <tr>\n      <th>0</th>\n      <td>phpkIxskf.csv</td>\n      <td>0.702625</td>\n      <td>0.729163</td>\n      <td>0.577055</td>\n      <td>0.028840</td>\n      <td>0.712963</td>\n      <td>0.738619</td>\n      <td>0.511536</td>\n      <td>0.026607</td>\n      <td>0.695489</td>\n      <td>...</td>\n      <td>0.501448</td>\n      <td>0.033565</td>\n      <td>0.665859</td>\n      <td>0.725358</td>\n      <td>0.571867</td>\n      <td>0.041745</td>\n      <td>0.696965</td>\n      <td>0.739690</td>\n      <td>0.500000</td>\n      <td>0.028549</td>\n    </tr>\n    <tr>\n      <th>1</th>\n      <td>dataset_186_satimage.csv</td>\n      <td>0.940535</td>\n      <td>0.953255</td>\n      <td>0.924139</td>\n      <td>0.005277</td>\n      <td>0.934435</td>\n      <td>0.956336</td>\n      <td>0.597729</td>\n      <td>0.039311</td>\n      <td>0.911926</td>\n      <td>...</td>\n      <td>0.568894</td>\n      <td>0.094251</td>\n      <td>0.937735</td>\n      <td>0.954838</td>\n      <td>0.917793</td>\n      <td>0.006477</td>\n      <td>0.919348</td>\n      <td>0.956144</td>\n      <td>0.675739</td>\n      <td>0.040429</td>\n    </tr>\n    <tr>\n      <th>2</th>\n      <td>phpGReJjU.csv</td>\n      <td>0.998476</td>\n      <td>1.000000</td>\n      <td>0.992149</td>\n      <td>0.001779</td>\n      <td>0.748595</td>\n      <td>1.000000</td>\n      <td>0.505052</td>\n      <td>0.216918</td>\n      <td>0.938836</td>\n      <td>...</td>\n      <td>0.523450</td>\n      <td>0.234115</td>\n      <td>0.999965</td>\n      <td>1.000000</td>\n      <td>0.999724</td>\n      <td>0.000053</td>\n      <td>0.938830</td>\n      <td>1.000000</td>\n      <td>0.489894</td>\n      <td>0.131815</td>\n    </tr>\n    <tr>\n      <th>3</th>\n      <td>leukemia.csv</td>\n      <td>0.908388</td>\n      <td>1.000000</td>\n      <td>0.732500</td>\n      <td>0.054569</td>\n      <td>0.939793</td>\n      <td>1.000000</td>\n      <td>0.821667</td>\n      <td>0.028799</td>\n      <td>0.844997</td>\n      <td>...</td>\n      <td>0.500000</td>\n      <td>0.163703</td>\n      <td>0.941088</td>\n      <td>0.983333</td>\n      <td>0.500000</td>\n      <td>0.052072</td>\n      <td>0.819608</td>\n      <td>0.983333</td>\n      <td>0.702500</td>\n      <td>0.050714</td>\n    </tr>\n    <tr>\n      <th>4</th>\n      <td>phplE7q6h.csv</td>\n      <td>0.901998</td>\n      <td>0.940336</td>\n      <td>0.840513</td>\n      <td>0.017234</td>\n      <td>0.896768</td>\n      <td>0.960080</td>\n      <td>0.559668</td>\n      <td>0.071872</td>\n      <td>0.806424</td>\n      <td>...</td>\n      <td>0.471178</td>\n      <td>0.178394</td>\n      <td>0.634219</td>\n      <td>0.949953</td>\n      <td>0.500000</td>\n      <td>0.142008</td>\n      <td>0.890185</td>\n      <td>0.967753</td>\n      <td>0.680905</td>\n      <td>0.075839</td>\n    </tr>\n  </tbody>\n</table>\n<p>5 rows × 25 columns</p>\n</div>"
     },
     "metadata": {},
     "execution_count": 5
    }
   ],
   "source": [
    "dfs.head()"
   ]
  }
 ],
 "metadata": {
  "kernelspec": {
   "display_name": "Python 3",
   "language": "python",
   "name": "python3"
  },
  "language_info": {
   "codemirror_mode": {
    "name": "ipython",
    "version": 3
   },
   "file_extension": ".py",
   "mimetype": "text/x-python",
   "name": "python",
   "nbconvert_exporter": "python",
   "pygments_lexer": "ipython3",
   "version": "3.8.3-final"
  }
 },
 "nbformat": 4,
 "nbformat_minor": 4
}