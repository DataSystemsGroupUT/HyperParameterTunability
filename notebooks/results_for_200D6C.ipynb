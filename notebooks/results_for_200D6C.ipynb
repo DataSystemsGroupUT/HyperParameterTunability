{
 "cells": [
  {
   "cell_type": "markdown",
   "metadata": {},
   "source": [
    "# 1. Imports"
   ]
  },
  {
   "cell_type": "code",
   "execution_count": 1,
   "metadata": {
    "tags": []
   },
   "outputs": [
    {
     "output_type": "stream",
     "name": "stdout",
     "text": [
      "Using matplotlib backend: Qt5Agg\n"
     ]
    },
    {
     "output_type": "execute_result",
     "data": {
      "text/plain": [
       "'\\nall function of this notebook(and some other code.) is based on fallowing amazing github repo:\\n\\nhttps://github.com/janvanrijn/openml-pimp\\n\\nSo all credits goes for it.\\n'"
      ]
     },
     "metadata": {},
     "execution_count": 1
    }
   ],
   "source": [
    "# imports\n",
    "import collections\n",
    "import copy\n",
    "import json\n",
    "import matplotlib.pyplot as plt\n",
    "from statistics import median\n",
    "import numpy as np\n",
    "import os\n",
    "import pandas as pd\n",
    "import pickle\n",
    "import scipy.stats\n",
    "import seaborn as sns\n",
    "import warnings\n",
    "import matplotlib\n",
    "%matplotlib\n",
    "warnings.filterwarnings(\"ignore\")\n",
    "\n",
    " \n",
    " \n",
    "font = {\n",
    "        # 'family' : 'normal',\n",
    "        # 'weight' : 'bold',\n",
    "        'size'   : 18}\n",
    "\n",
    "matplotlib.rc('font', **font)\n",
    "\n",
    "\"\"\"\n",
    "all function of this notebook(and some other code.) is based on fallowing amazing github repo:\n",
    "\n",
    "https://github.com/janvanrijn/openml-pimp\n",
    "\n",
    "So all credits goes for it.\n",
    "\"\"\""
   ]
  },
  {
   "cell_type": "code",
   "execution_count": 2,
   "metadata": {},
   "outputs": [],
   "source": [
    "import matplotlib.font_manager as fm\n",
    "# Rebuild the matplotlib font cache\n",
    "fm._rebuild()"
   ]
  },
  {
   "cell_type": "markdown",
   "metadata": {},
   "source": [
    "# 2. Functions"
   ]
  },
  {
   "cell_type": "code",
   "execution_count": 3,
   "metadata": {},
   "outputs": [],
   "source": [
    "def rank_dict(dictionary, reverse=False):\n",
    "    '''\n",
    "    Get a dictionary and return a rank dictionary\n",
    "    for example dic={'a':10,'b':2,'c':6}\n",
    "    will return dic={'a':1.0,'b':3.0,'c':2.0}\n",
    "    \n",
    "    '''\n",
    "    dictionary = copy.copy(dictionary)\n",
    "    \n",
    "    if reverse:\n",
    "        \n",
    "        for key in dictionary.keys():\n",
    "            dictionary[key] = 1 - dictionary[key]\n",
    "                      \n",
    "    sortdict = collections.OrderedDict(sorted(dictionary.items()))\n",
    "    ranks = scipy.stats.rankdata(list(sortdict.values()))\n",
    "    result = {}\n",
    "    \n",
    "    for idx, (key, value) in enumerate(sortdict.items()):\n",
    "        result[key] = ranks[idx]\n",
    "        \n",
    "    return result"
   ]
  },
  {
   "cell_type": "code",
   "execution_count": 4,
   "metadata": {},
   "outputs": [],
   "source": [
    "def sum_dict_values(a, b, allow_subsets=False):\n",
    "    '''\n",
    "    Get two dictionary sum them together!\n",
    "    '''\n",
    "    result = {}\n",
    "    a_total = sum(a.values())\n",
    "    b_total = sum(b.values())\n",
    "    a_min_b = set(a.keys()) - set(b.keys())\n",
    "    b_min_a = set(b.keys()) - set(a.keys())\n",
    "    \n",
    "#     if len(b_min_a) > 0:\n",
    "#         raise ValueError('dict b got illegal keys: %s' %str(b_min_a))\n",
    "        \n",
    "#     if not allow_subsets and len(a_min_b):\n",
    "#         raise ValueError('keys not the same')\n",
    "        \n",
    "    for idx in a.keys():\n",
    "        if idx in b:\n",
    "            result[idx] = a[idx] + b[idx]\n",
    "        else:\n",
    "            result[idx] = a[idx]\n",
    "            \n",
    "#     if sum(result.values()) != a_total + b_total:\n",
    "#         raise ValueError()\n",
    "        \n",
    "    return result"
   ]
  },
  {
   "cell_type": "code",
   "execution_count": 5,
   "metadata": {},
   "outputs": [],
   "source": [
    "def divide_dict_values(d, denominator):\n",
    "    ''' \n",
    "    divide d/demoniator\n",
    "    '''\n",
    "    result = {}\n",
    "    \n",
    "    for idx in d.keys():\n",
    "        result[idx] = d[idx] / denominator\n",
    "        \n",
    "    return result"
   ]
  },
  {
   "cell_type": "code",
   "execution_count": 6,
   "metadata": {},
   "outputs": [],
   "source": [
    "def determine_relevant(data, max_items=None, max_interactions=None):\n",
    "\n",
    "\n",
    "\n",
    "    sorted_values = []\n",
    "    keys = []\n",
    "    interactions_seen = 0\n",
    "\n",
    "\n",
    "    for key in sorted(data, key=lambda k: median(data[k]), reverse=True):\n",
    "        if '__' in key:\n",
    "            interactions_seen += 1\n",
    "            if interactions_seen > max_interactions:\n",
    "                continue\n",
    "\n",
    "        sorted_values.append(data[key])\n",
    "        keys.append(key)\n",
    "\n",
    "\n",
    "    if max_items is not None:\n",
    "        sorted_values = sorted_values[:max_items]\n",
    "        keys = keys[:max_items]\n",
    "\n",
    "    return sorted_values, keys"
   ]
  },
  {
   "cell_type": "code",
   "execution_count": 7,
   "metadata": {},
   "outputs": [],
   "source": [
    "def marginal_plots(sorted_values, keys, fig_title):\n",
    "    sorted_values=sorted_values[0:9]\n",
    "    plt.figure(figsize=(12,10))\n",
    "    violins=plt.violinplot(list(sorted_values), list(range(len(sorted_values))),showmeans=True)\n",
    "    c=0\n",
    "    for v in violins['bodies']:\n",
    "        # pinkish purple #ed0dd9 , pale pink (#ffcfdc) , powder blue (#b1d1fc) , light cyan (#acfffc) , light blue green (#7efbb3)\n",
    "        #pale purple #b790d4 pistachio (#c0fa8b) , pine (#2b5d34) , dark blue green (#005249)   \n",
    "        dic_colors={0:'#ed0dd9',1:\"#b790d4\",2:'#ffcfdc',3:'#b1d1fc',4:'#acfffc',5:'#7efbb3',6:'#c0fa8b',7:'#2b5d34',8:'#005249', 9:'#005249'}\n",
    "\n",
    "        v.set_facecolor(str(dic_colors[c]))\n",
    "        # v.set_facecolor('#ed0dd9')\n",
    "        c+=1\n",
    "        v.set_edgecolor('black')\n",
    "        v.set_linewidth(1)\n",
    "        v.set_alpha(1)\n",
    "\n",
    "    # sns.violinplot(sorted_values, range(len(sorted_values)))\n",
    "    plt.plot([-0.5, len(sorted_values) - 0.5], [0, 0], 'k-', linestyle='--', lw=1)\n",
    "    keys = [format_name(key) for key in keys]\n",
    "    plt.xticks(list(range(len(sorted_values))), list(keys), rotation=20, ha='right')\n",
    "    plt.ylabel('Variance Contribution')\n",
    "    ax=plt.gca()\n",
    "    ax.set_facecolor('#b7c9e2')\n",
    "    # plt.xlabel(\"Hyperparameters\")\n",
    "    plt.grid(color='white', linestyle='-', linewidth=2)\n",
    "    # plt.title(fig_title)\n",
    "    # plt.show()\n",
    "    plt.savefig(\"../output_plots/\"+fig_title+\".pdf\" ,bbox_inches = 'tight',pad_inches = 0, format='pdf')\n",
    "    plt.close()"
   ]
  },
  {
   "cell_type": "code",
   "execution_count": 8,
   "metadata": {},
   "outputs": [],
   "source": [
    "def format_name(name):\n",
    "    '''\n",
    "    Format hyperparameter names!\n",
    "    '''\n",
    "    mapping_short = {\n",
    "        'strategy': 'imputation',\n",
    "        'max_features': 'max_features',\n",
    "        'min_samples_leaf': 'min_samples_leaf',\n",
    "        'min_samples_split': 'min_samples_split',\n",
    "        'criterion': 'criterion',\n",
    "        'learning_rate': 'learning_rate',\n",
    "        'max_depth': 'max_depth',\n",
    "        'n_estimators': 'n_estimators',\n",
    "        'algorithm': 'algorithm',\n",
    "        \"('max_features', 'min_samples_leaf')\":\"'max_feat.', 'min_s._leaf'\",\n",
    "        \"('criterion', 'max_features', 'min_samples_leaf')\":\"'criterion', 'max_feat.', 'min_s._leaf'\",\n",
    "        \"('max_features', 'min_samples_split')\":\"'criterion','max_feat.', 'min_s._split'\",\n",
    "        \"('bootstrap', 'max_features', 'min_samples_leaf')\": \"'boots.', 'max_feat.', 'min_s._leaf'\",\n",
    "        \"('bootstrap', 'max_features')\": \"'boots.', 'max_feat.'\",\n",
    "        \"('bootstrap', 'min_samples_leaf')\":\"'boots.', 'min_s._leaf'\",\n",
    "        \"('imputation', 'max_features', 'min_samples_leaf')\": \"'imput.', 'max_feat.', 'min_s._leaf'\",\n",
    "        \"('imputation', 'max_features')\": \"'imput.', 'max_feat.'\",\n",
    "        \"('imputation', 'min_samples_leaf')\": \"'imput.', 'min_s._leaf'\",\n",
    "        \"('min_samples_leaf', 'min_samples_split')\":\"'min_s._leaf', 'min_s._split'\",\n",
    "        \"('min_samples_leaf', 'n_estimators')\":\"'min_s._leaf', 'n_esti.'\",\n",
    "        \"('learning_rate', 'max_depth')\": \"'learning_r.', 'max_depth'\",\n",
    "        \"('learning_rate', 'max_features')\": \"'learning_r.', 'max_feat.'\",\n",
    "        \"('max_depth', 'n_estimators')\":\"'max_depth', 'n_esti.'\",\n",
    "        \"('learning_rate', 'n_estimators')\": \"'learning_r., 'n_esti.'\",\n",
    "        \"('learning_rate', 'min_samples_leaf')\": \"'learning_r.', 'min_s._leaf'\",\n",
    "        \"('algorithm', 'max_depth', 'learning_rate')\":\"'alg.', 'max_depth', 'learning_r.'\",\n",
    "        \"('algorithm', 'max_depth')\": \"'alg.', 'max_depth'\",\n",
    "        \"('imputation', 'max_depth', 'learning_rate')\":\"'imput., 'max_depth', 'learning_r.'\",\n",
    "        \"('gamma', 'kernel')\":\"'gamma', 'kernel'\",\n",
    "        \"('imputation', 'kernel')\":\"'imput.', 'kernel'\",\n",
    "        \"('imputation', 'tol')\":\"'imput.', 'tol'\",\n",
    "        \"('C', 'imputation')\":\"'C', 'imput.'\",\n",
    "        \"('coef0', 'gamma')\":\"'coef0', 'gamma'\",\n",
    "        \"('coef0', 'imputation')\":\"'coef0', 'imput.'\",\n",
    "        \"('gamma', 'imputation')\":\"'gamma', 'imput.'\",\n",
    "\n",
    "\n",
    "\n",
    "        }\n",
    "\n",
    "    parts = name.split('__')\n",
    "    for idx, part in enumerate(parts):\n",
    "        if part in mapping_short:\n",
    "            parts[idx] = mapping_short[part]\n",
    " \n",
    "                \n",
    "    return ' / '.join(parts)"
   ]
  },
  {
   "cell_type": "code",
   "execution_count": 9,
   "metadata": {},
   "outputs": [],
   "source": [
    "\n",
    "#df=df.drop([\"imputation\",\"time_taken\"],axis=1)\n",
    "def obtain_marginal_contributions(df):\n",
    "    '''\n",
    "    This is the main function that calls Top functions\n",
    "    '''\n",
    "    \n",
    "    all_ranks = dict()\n",
    "    all_tasks = list()\n",
    "    total_ranks = None\n",
    "    num_tasks = 0\n",
    "    marginal_contribution = collections.defaultdict(list)\n",
    "\n",
    "    lst_datasets=list(df.dataset.unique())\n",
    "\n",
    "    for dataset in lst_datasets:\n",
    "\n",
    "\n",
    "        a=df[df.dataset==dataset]\n",
    "        a=a.drop(\"dataset\",axis=1)\n",
    "        param=dict()\n",
    "\n",
    "\n",
    "        for index, row in a.iterrows():\n",
    "            marginal_contribution[row[\"param\"]].append(row[\"importance\"])\n",
    "            param.update( {row[\"param\"] : row[\"importance\"]} )\n",
    "\n",
    "        ranks = rank_dict(param, reverse=True)\n",
    "        if total_ranks is None:\n",
    "            total_ranks = ranks\n",
    "        else:\n",
    "            total_ranks = sum_dict_values( ranks,total_ranks, allow_subsets=False)\n",
    "            num_tasks += 1\n",
    "    total_ranks = divide_dict_values(total_ranks, num_tasks)\n",
    "    return total_ranks, marginal_contribution, lst_datasets"
   ]
  },
  {
   "cell_type": "markdown",
   "metadata": {},
   "source": [
    "## 3. Result: 6 plot over 200 datasets for 6 classifiers(obtain_marginal_contributions)"
   ]
  },
  {
   "cell_type": "code",
   "execution_count": 10,
   "metadata": {},
   "outputs": [],
   "source": [
    "# {\"RF\",\"SVM\",\"ET\",\"DT\",\"AB\",\"GB\"}\n",
    "for cls in {\"RF\",\"SVM\",\"ET\",\"DT\",\"AB\",\"GB\"}:\n",
    "    df=pd.read_csv(\"../PerformanceData/\"+cls+\"_fANOVA_results.csv\")\n",
    "    total_ranks, marginal_contribution, _ = obtain_marginal_contributions(df)\n",
    "    sorted_values, keys = determine_relevant(marginal_contribution, max_interactions=3)\n",
    "    marginal_plots(sorted_values, keys, cls+\" classifier\")"
   ]
  }
 ],
 "metadata": {
  "kernelspec": {
   "name": "python3",
   "display_name": "Python 3.7.4 64-bit ('base': conda)",
   "metadata": {
    "interpreter": {
     "hash": "012080076d34b6fd00b64d41aae62f55212ca98f0a386ccc71b4094bc25b8854"
    }
   }
  },
  "language_info": {
   "codemirror_mode": {
    "name": "ipython",
    "version": 3
   },
   "file_extension": ".py",
   "mimetype": "text/x-python",
   "name": "python",
   "nbconvert_exporter": "python",
   "pygments_lexer": "ipython3",
   "version": "3.7.4-final"
  }
 },
 "nbformat": 4,
 "nbformat_minor": 2
}