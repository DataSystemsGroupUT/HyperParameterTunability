{
 "cells": [
  {
   "cell_type": "code",
   "execution_count": 1,
   "metadata": {},
   "outputs": [],
   "source": [
    "import pandas as pd\n",
    "import pickle\n",
    "import scipy.stats\n",
    "import seaborn as sns\n",
    "import math\n",
    "import warnings\n",
    "warnings.filterwarnings(\"ignore\")"
   ]
  },
  {
   "cell_type": "markdown",
   "metadata": {},
   "source": [
    "## 1. Random Forest"
   ]
  },
  {
   "cell_type": "code",
   "execution_count": 2,
   "metadata": {},
   "outputs": [],
   "source": [
    "df=pd.read_csv(\"../PerformanceData/\"+\"RF_fANOVA_results.csv\",usecols=[\"param\",\"importance\",\"dataset\"])\n",
    "params=['bootstrap',\n",
    " 'criterion',\n",
    " 'max_features',\n",
    " 'min_samples_leaf',\n",
    " 'min_samples_split',\n",
    " \"('max_features', 'min_samples_leaf')\",\n",
    " \"('bootstrap', 'max_features')\"]\n",
    "params_wilcoxon = pd.DataFrame(index=range(200), columns=params )\n",
    "params_wilcoxon[\"dataset\"]=df.dataset.unique()\n",
    "\n",
    "\n",
    "for dataset in df.dataset.unique():\n",
    "    for param in params:\n",
    "        params_wilcoxon.loc[params_wilcoxon[\"dataset\"]==dataset,param]= float(df[(df[\"dataset\"]==dataset) & (df[\"param\"]==param)][\"importance\"])\n",
    "\n",
    "\n",
    "\n",
    "params_wilcoxon.to_csv(\"../output_csv/rf_params_wilcoxon.csv\",index=False)"
   ]
  },
  {
   "cell_type": "code",
   "execution_count": 3,
   "metadata": {},
   "outputs": [],
   "source": [
    "## Adaboost\n",
    "df=pd.read_csv(\"../PerformanceData/\"+\"AB_fANOVA_results.csv\",usecols=[\"param\",\"importance\",\"dataset\"])\n",
    "df.param.unique()\n",
    "\n",
    "\n",
    "\n",
    "params=['learning_rate',\n",
    " 'max_depth','n_estimators',\"('learning_rate', 'max_depth')\",\"('learning_rate', 'n_estimators')\",\"('max_depth', 'n_estimators')\",\"('algorithm', 'max_depth', 'learning_rate')\"]\n",
    "params_wilcoxon = pd.DataFrame(index=range(198), columns=params )\n",
    "params_wilcoxon[\"dataset\"]=df.dataset.unique()\n",
    "\n",
    "\n",
    "\n",
    "for dataset in df.dataset.unique():\n",
    "    for param in params:\n",
    "        params_wilcoxon.loc[params_wilcoxon[\"dataset\"]==dataset,param]= float(df[(df[\"dataset\"]==dataset) & (df[\"param\"]==param)][\"importance\"])\n",
    "\n",
    "\n",
    "\n",
    "params_wilcoxon.to_csv(\"../output_csv/ab_params_wilcoxon.csv\",index=False)"
   ]
  },
  {
   "cell_type": "markdown",
   "metadata": {},
   "source": [
    "## 3. SVM\n"
   ]
  },
  {
   "cell_type": "code",
   "execution_count": 36,
   "metadata": {},
   "outputs": [],
   "source": [
    "df=pd.read_csv(\"../PerformanceData/\"+\"SVM_fANOVA_results.csv\",usecols=[\"param\",\"importance\",\"dataset\"])\n",
    "params= [  'gamma', 'kernel',  \n",
    "       \"('gamma', 'kernel')\",    \n",
    "       \"('coef0', 'gamma')\",  \n",
    "       \"('gamma', 'imputation')\",\n",
    "       \"('imputation', 'kernel')\",\n",
    "       \"('coef0', 'imputation')\", \"('C', 'imputation')\",\n",
    "       \"('imputation', 'tol')\",  \n",
    " ]\n",
    "df[\"param\"]=df[\"param\"].astype(str)\n",
    "df[\"dataset\"]=df[\"dataset\"].astype(str) \n",
    "params_wilcoxon = pd.DataFrame(index=range(195), columns=params)\n",
    "params_wilcoxon[\"dataset\"]=df.dataset.unique()\n",
    "\n",
    "\n",
    "\n",
    " \n",
    "for dataset in df.dataset.unique():\n",
    "     \n",
    "    for param in params:\n",
    " \n",
    "        if (df[(df[\"dataset\"]==dataset) & (df[\"param\"]==param)][\"importance\"]).empty:\n",
    "            continue \n",
    "        params_wilcoxon.loc[params_wilcoxon[\"dataset\"]==dataset,param]= float(df[(df[\"dataset\"]==dataset) & (df[\"param\"]==param)][\"importance\"])\n",
    "\n",
    "\n",
    "params_wilcoxon.to_csv(\"../output_csv/svm_params_wilcoxon.csv\",index=False)"
   ]
  },
  {
   "source": [
    "## 3. DT"
   ],
   "cell_type": "markdown",
   "metadata": {}
  },
  {
   "cell_type": "code",
   "execution_count": null,
   "metadata": {},
   "outputs": [],
   "source": [
    "df=pd.read_csv(\"../PerformanceData/\"+\"DT_fANOVA_results.csv\",usecols=[\"param\",\"importance\",\"dataset\"])\n",
    "df.param.unique()\n",
    "\n",
    "params=['max_features',\n",
    " 'min_samples_leaf',\n",
    " 'min_samples_split','criterion',\"('max_features', 'min_samples_leaf')\", \"('max_features', 'min_samples_split')\"]\n",
    "\n",
    "\n",
    "\n",
    "params_wilcoxon = pd.DataFrame(index=range(200), columns=params )\n",
    "params_wilcoxon[\"dataset\"]=df.dataset.unique()\n",
    "\n",
    "\n",
    "for dataset in df.dataset.unique():\n",
    "    for param in params:\n",
    "        params_wilcoxon.loc[params_wilcoxon[\"dataset\"]==dataset,param]= float(df[(df[\"dataset\"]==dataset) & (df[\"param\"]==param)][\"importance\"])\n",
    "\n",
    "\n",
    "\n",
    "params_wilcoxon.to_csv(\"../output_csv/dt_params_wilcoxon.csv\",index=False)"
   ]
  },
  {
   "cell_type": "markdown",
   "metadata": {},
   "source": [
    "## 5. GB"
   ]
  },
  {
   "cell_type": "code",
   "execution_count": null,
   "metadata": {},
   "outputs": [],
   "source": [
    "df=pd.read_csv(\"../PerformanceData/\"+\"GB_fANOVA_results.csv\",usecols=[\"param\",\"importance\",\"dataset\"])\n",
    "df.param.unique()\n",
    "\n",
    "\n",
    "params=['criterion',\n",
    " 'learning_rate',\n",
    " 'max_depth','max_features','min_samples_leaf','min_samples_split','n_estimators']\n",
    "params_wilcoxon = pd.DataFrame(index=range(198), columns=params )\n",
    "params_wilcoxon[\"dataset\"]=df.dataset.unique()\n",
    "\n",
    "\n",
    "for dataset in df.dataset.unique():\n",
    "    for param in params:\n",
    "        params_wilcoxon.loc[params_wilcoxon[\"dataset\"]==dataset,param]= float(df[(df[\"dataset\"]==dataset) & (df[\"param\"]==param)][\"importance\"])\n",
    "\n",
    "\n",
    "\n",
    "params_wilcoxon.to_csv(\"../output_csv/gb_params_wilcoxon.csv\",index=False)"
   ]
  },
  {
   "cell_type": "markdown",
   "metadata": {},
   "source": [
    "## 6. Extra Tree"
   ]
  },
  {
   "cell_type": "code",
   "execution_count": 7,
   "metadata": {},
   "outputs": [],
   "source": [
    "df=pd.read_csv(\"../PerformanceData/\"+\"ET_fANOVA_results.csv\",usecols=[\"param\",\"importance\",\"dataset\"])\n",
    "df.param.unique()\n",
    "\n",
    "params=['bootstrap',\n",
    " 'criterion',\n",
    " 'max_features','min_samples_leaf','min_samples_split',\"('max_features', 'min_samples_leaf')\",\"('min_samples_leaf', 'min_samples_split')\"]\n",
    "params_wilcoxon = pd.DataFrame(index=range(199), columns=params )\n",
    "params_wilcoxon[\"dataset\"]=df.dataset.unique()\n",
    "\n",
    "\n",
    "\n",
    "\n",
    "for dataset in df.dataset.unique():\n",
    "    for param in params:\n",
    "        params_wilcoxon.loc[params_wilcoxon[\"dataset\"]==dataset,param]= float(df[(df[\"dataset\"]==dataset) & (df[\"param\"]==param)][\"importance\"])\n",
    "\n",
    "\n",
    "\n",
    "params_wilcoxon.to_csv(\"../output_csv/et_params_wilcoxon.csv\",index=False)"
   ]
  }
 ],
 "metadata": {
  "kernelspec": {
   "display_name": "Python 3",
   "language": "python",
   "name": "python3"
  },
  "language_info": {
   "codemirror_mode": {
    "name": "ipython",
    "version": 3
   },
   "file_extension": ".py",
   "mimetype": "text/x-python",
   "name": "python",
   "nbconvert_exporter": "python",
   "pygments_lexer": "ipython3",
   "version": "3.7.4-final"
  }
 },
 "nbformat": 4,
 "nbformat_minor": 4
}