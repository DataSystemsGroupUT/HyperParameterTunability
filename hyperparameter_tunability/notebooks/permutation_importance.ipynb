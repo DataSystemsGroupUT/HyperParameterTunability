{
 "cells": [
  {
   "cell_type": "code",
   "execution_count": 20,
   "metadata": {},
   "outputs": [
    {
     "name": "stdout",
     "output_type": "stream",
     "text": [
      "3.8.12 | packaged by conda-forge | (default, Oct 12 2021, 21:57:06) \n",
      "[GCC 9.4.0]\n",
      "1.4.2\n"
     ]
    }
   ],
   "source": [
    "import numpy as np\n",
    "import os\n",
    "import pandas as pd\n",
    "import sys\n",
    "from sklearn.base import BaseEstimator, TransformerMixin\n",
    "from sklearn.compose import make_column_selector as selector\n",
    "from sklearn.impute import SimpleImputer\n",
    "from sklearn.pipeline import  Pipeline \n",
    "from sklearn.preprocessing import StandardScaler\n",
    "from sklearn.inspection import permutation_importance\n",
    "from sklearn.metrics import mean_squared_error\n",
    "from sklearn.ensemble import RandomForestRegressor\n",
    "from sklearn.model_selection import train_test_split\n",
    "import category_encoders as ce\n",
    "import matplotlib.pyplot as plt\n",
    "print(sys.version)\n",
    "print(pd.__version__)"
   ]
  },
  {
   "cell_type": "code",
   "execution_count": 98,
   "metadata": {},
   "outputs": [],
   "source": [
    "rf_hpis = [ \"bootstrap\",\"criterion\",\"max_features\",\"min_samples_leaf\",\"min_samples_split\",\"imputation\"]\n",
    "ab_hpis = [\"algorithm\",\"max_depth\",\"learning_rate\",\"n_estimators\",\"imputation\"]\n",
    "dt_hpis = [\"criterion\",\"max_features\",\"min_samples_leaf\",\"min_samples_split\",\"imputation\"]\n",
    "et_hpis = ['bootstrap','criterion','max_features','min_samples_leaf','min_samples_split','imputation']\n",
    "gb_hpis = [\"learning_rate\",\"criterion\",\"n_estimators\",\"max_depth\",\"min_samples_split\",\"min_samples_leaf\",\"max_features\",\"imputation\"]\n",
    "svm_hpis = [\"C\",\"coef0\",\"gamma\",\"kernel\",\"shrinking\",\"tol\"]"
   ]
  },
  {
   "cell_type": "code",
   "execution_count": 99,
   "metadata": {},
   "outputs": [],
   "source": [
    "def read_dataset(model,hpis):\n",
    "    path = \"../performance_data/\"+model+\"_results_total.csv\"\n",
    "    df = pd.read_csv(path)\n",
    "    X = df[hpis]\n",
    "    y = df[\"CV_auc\"]\n",
    "    return X, y"
   ]
  },
  {
   "cell_type": "code",
   "execution_count": 100,
   "metadata": {},
   "outputs": [
    {
     "name": "stderr",
     "output_type": "stream",
     "text": [
      "/tmp/ipykernel_599719/2300775867.py:3: DtypeWarning: Columns (7) have mixed types. Specify dtype option on import or set low_memory=False.\n",
      "  df = pd.read_csv(path)\n"
     ]
    }
   ],
   "source": [
    "ml_model=\"SVM\"\n",
    "ml_model_hpis = svm_hpis\n",
    "X, y = read_dataset(ml_model,ml_model_hpis)\n",
    "X_train, X_test, y_train, y_test = train_test_split(\n",
    "    X, \n",
    "    y, \n",
    "    test_size=0.2, random_state=42,\n",
    ")"
   ]
  },
  {
   "cell_type": "code",
   "execution_count": 101,
   "metadata": {},
   "outputs": [],
   "source": [
    "numerical_columns_selector = selector(dtype_exclude=object)\n",
    "categorical_columns_selector = selector(dtype_include=object)\n",
    "numerical_columns = numerical_columns_selector(X)\n",
    "categorical_columns = categorical_columns_selector(X)"
   ]
  },
  {
   "cell_type": "code",
   "execution_count": 102,
   "metadata": {},
   "outputs": [],
   "source": [
    "class FeatureSelector(BaseEstimator, TransformerMixin):\n",
    "    def __init__(self, feature_names):\n",
    "        self.feature_names = feature_names   \n",
    "    def fit(self, X, y = None):\n",
    "        return self\n",
    "    def transform(self, X, y=None):\n",
    "        return X[self.feature_names] "
   ]
  },
  {
   "cell_type": "code",
   "execution_count": 103,
   "metadata": {},
   "outputs": [],
   "source": [
    "numeric_transformer = Pipeline(\n",
    "    steps=[\n",
    "    (\"impute_median\", SimpleImputer(strategy=\"median\")),\n",
    "    (\"std_scaler\", StandardScaler())\n",
    "                               ])\n",
    "categorical_transformer = ce.OrdinalEncoder(handle_unknown=\"ignore\")"
   ]
  },
  {
   "cell_type": "code",
   "execution_count": 104,
   "metadata": {},
   "outputs": [],
   "source": [
    "from sklearn.compose import ColumnTransformer\n",
    "\n",
    "preprocessor = ColumnTransformer([\n",
    "    ('cat_encoder', categorical_transformer, categorical_columns),\n",
    "    ('num_encoder', numeric_transformer, numerical_columns)])"
   ]
  },
  {
   "cell_type": "code",
   "execution_count": 105,
   "metadata": {},
   "outputs": [],
   "source": [
    "X_train_transformed = preprocessor.fit_transform(X_train)\n",
    "X_test_transformed = preprocessor.transform(X_test)\n",
    "feat_name =  categorical_columns + numerical_columns"
   ]
  },
  {
   "cell_type": "code",
   "execution_count": 106,
   "metadata": {},
   "outputs": [
    {
     "name": "stdout",
     "output_type": "stream",
     "text": [
      "The mean squared error (MSE) on test set: 0.0202\n"
     ]
    }
   ],
   "source": [
    "reg = RandomForestRegressor(random_state=1,n_jobs=-1)\n",
    "reg.fit(X_train_transformed, y_train)\n",
    "\n",
    "mse = mean_squared_error(y_test, reg.predict(X_test_transformed))\n",
    "print(\"The mean squared error (MSE) on test set: {:.4f}\".format(mse))"
   ]
  },
  {
   "cell_type": "code",
   "execution_count": 107,
   "metadata": {},
   "outputs": [
    {
     "data": {
      "image/png": "[encoded data removed]",
      "text/plain": [
       "<Figure size 864x432 with 1 Axes>"
      ]
     },
     "metadata": {
      "needs_background": "light"
     },
     "output_type": "display_data"
    }
   ],
   "source": [
    "fig = plt.figure(figsize=(12, 6))\n",
    "\n",
    "result = permutation_importance(reg, X_test_transformed, y_test, n_repeats=10, random_state=42, n_jobs=-1,)\n",
    "sorted_idx = result.importances_mean.argsort()\n",
    "plt.boxplot(\n",
    "    result.importances[sorted_idx].T,\n",
    "    vert=False,\n",
    "    labels=np.array(feat_name)[sorted_idx],\n",
    ")\n",
    "plt.title(\"Permutation Importance (test set) \")\n",
    "fig.tight_layout()\n",
    "plt.savefig(f'../output/permotation_importance/{ml_model}_importance.pdf')  \n",
    "plt.show()"
   ]
  }
 ],
 "metadata": {
  "interpreter": {
   "hash": "85f8ad914b906c1039d5828d8761ae2c53f9aa37f05a6c47d532269e759bba06"
  },
  "kernelspec": {
   "display_name": "Python 3.8.12 ('da6c200d')",
   "language": "python",
   "name": "python3"
  },
  "language_info": {
   "codemirror_mode": {
    "name": "ipython",
    "version": 3
   },
   "file_extension": ".py",
   "mimetype": "text/x-python",
   "name": "python",
   "nbconvert_exporter": "python",
   "pygments_lexer": "ipython3",
   "version": "3.8.12"
  },
  "orig_nbformat": 4
 },
 "nbformat": 4,
 "nbformat_minor": 2
}
