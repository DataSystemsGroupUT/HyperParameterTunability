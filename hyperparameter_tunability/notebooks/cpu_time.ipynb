{
 "cells": [
  {
   "cell_type": "code",
   "execution_count": 3,
   "metadata": {},
   "outputs": [],
   "source": [
    "import numpy as np \n",
    "import pandas as pd"
   ]
  },
  {
   "cell_type": "code",
   "execution_count": 5,
   "metadata": {},
   "outputs": [
    {
     "name": "stderr",
     "output_type": "stream",
     "text": [
      "/home/mohamed/miniconda3/envs/da6c200d/lib/python3.8/site-packages/IPython/core/interactiveshell.py:3134: DtypeWarning: Columns (5) have mixed types.Specify dtype option on import or set low_memory=False.\n",
      "  has_raised = await self.run_ast_nodes(code_ast.body, cell_name,\n",
      "/home/mohamed/miniconda3/envs/da6c200d/lib/python3.8/site-packages/IPython/core/interactiveshell.py:3134: DtypeWarning: Columns (8) have mixed types.Specify dtype option on import or set low_memory=False.\n",
      "  has_raised = await self.run_ast_nodes(code_ast.body, cell_name,\n"
     ]
    }
   ],
   "source": [
    "all_algorithm_train_time = []\n",
    "for algorithm in (\"RF\",\"AB\",\"SVM\",\"DT\",\"GB\",\"ET\"):\n",
    "    df= pd.read_csv(f\"../performance_data/{algorithm}_results_total.csv\")\n",
    "    train_time_sum = df[\"Mean_Train_time\"].sum()\n",
    "    all_algorithm_train_time.append(train_time_sum)"
   ]
  },
  {
   "cell_type": "code",
   "execution_count": 6,
   "metadata": {},
   "outputs": [
    {
     "data": {
      "text/plain": [
       "53494.090541345635"
      ]
     },
     "execution_count": 6,
     "metadata": {},
     "output_type": "execute_result"
    }
   ],
   "source": [
    "# training time per minute \n",
    "sum(all_algorithm_train_time)/60"
   ]
  }
 ],
 "metadata": {
  "kernelspec": {
   "display_name": "Python 3.8.12 ('da6c200d')",
   "language": "python",
   "name": "python3"
  },
  "language_info": {
   "codemirror_mode": {
    "name": "ipython",
    "version": 3
   },
   "file_extension": ".py",
   "mimetype": "text/x-python",
   "name": "python",
   "nbconvert_exporter": "python",
   "pygments_lexer": "ipython3",
   "version": "3.8.12"
  },
  "orig_nbformat": 4,
  "vscode": {
   "interpreter": {
    "hash": "85f8ad914b906c1039d5828d8761ae2c53f9aa37f05a6c47d532269e759bba06"
   }
  }
 },
 "nbformat": 4,
 "nbformat_minor": 2
}
